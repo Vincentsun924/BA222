{
 "cells": [
  {
   "cell_type": "code",
   "execution_count": null,
   "id": "e41021c5",
   "metadata": {},
   "outputs": [],
   "source": [
    "###### FILE INFO #####\n",
    "#\n",
    "# LECTURE: Basics of Python\n",
    "# Course     : BA222\n",
    "# Instructor : Vidit Munshi\n",
    "#\n",
    "######################\n"
   ]
  },
  {
   "cell_type": "code",
   "execution_count": null,
   "id": "02f775d3",
   "metadata": {},
   "outputs": [],
   "source": [
    "##### Learning Objectives for Week 1 #####  \n",
    "\n",
    "#1. Successfully download and Open Anaconda/Jupyter/Python Notebook\n",
    "#2. Become familiar with the basics of using Jupyter Notebook/Python as a glorified calculator\n",
    "#3. Learn the differnce between Types in Python (str, int, float, bool, etc)\n",
    "#4. Utillize letters and words as variables in which values are stored\n",
    "#5. Review different types and how they interact with each other when operators are used (add/subtract/etc)\n",
    "#6. Learn what a function is and the proper syntax of creating a function in Python\n",
    "#7. Practice making and using functions in Python\n",
    "#8. Understand what a Method is, and the distinction between a Method and a Function"
   ]
  },
  {
   "cell_type": "code",
   "execution_count": null,
   "id": "5c640430",
   "metadata": {},
   "outputs": [],
   "source": [
    "# Lines that start with # are comments. These are useful to add notes to your code.\n",
    "# Throughout the semester, develop a habit of commenting EVERYTHING!"
   ]
  },
  {
   "cell_type": "code",
   "execution_count": null,
   "id": "e6dbb3f4",
   "metadata": {},
   "outputs": [],
   "source": [
    "###### Getting Started #########\n",
    "#\n",
    "# To run a Python command...\n",
    "#\n",
    "# 1. Select a Cell.\n",
    "# 2. Click the Run Button or Press Ctrl + Enter (or Shift + Enter)\n",
    "#\n",
    "# try running the following addition in the cell below:\n",
    "# 2 + 3\n",
    "#\n",
    "######################"
   ]
  },
  {
   "cell_type": "code",
   "execution_count": 1,
   "id": "67acdb43",
   "metadata": {},
   "outputs": [
    {
     "data": {
      "text/plain": [
       "5"
      ]
     },
     "execution_count": 1,
     "metadata": {},
     "output_type": "execute_result"
    }
   ],
   "source": [
    "2 + 3"
   ]
  },
  {
   "cell_type": "code",
   "execution_count": 2,
   "id": "b6a0f05a",
   "metadata": {},
   "outputs": [
    {
     "data": {
      "text/plain": [
       "9"
      ]
     },
     "execution_count": 2,
     "metadata": {},
     "output_type": "execute_result"
    }
   ],
   "source": [
    "# You can combine comments and code in a single cell\n",
    "2 + 3 + 4"
   ]
  },
  {
   "cell_type": "code",
   "execution_count": 3,
   "id": "1dc83db1",
   "metadata": {},
   "outputs": [
    {
     "data": {
      "text/plain": [
       "9"
      ]
     },
     "execution_count": 3,
     "metadata": {},
     "output_type": "execute_result"
    }
   ],
   "source": [
    "3 + 1 + 5 # Or add comments at the end of a command\n",
    "\n",
    "# You can type literally anything here and it won't impact anything\n",
    "# Comments are a good place to explain what the code beneath it is doing so someone could\n",
    "# look at your code and generally understand it quickly"
   ]
  },
  {
   "cell_type": "code",
   "execution_count": null,
   "id": "2b67ee49",
   "metadata": {},
   "outputs": [],
   "source": [
    "###### Python as a glorified calculator #########\n",
    "# \n",
    "# Let's complete this section with the corresponding\n",
    "# operator\n",
    "#\n",
    "# Addition       : \n",
    "# Subtraction    : \n",
    "# Division       : \n",
    "# Multiplication : \n",
    "# Power(Exponent): \n",
    "#\n",
    "# Order of operations matter! \n",
    "# Who remembers PEMDAS?\n",
    "######################"
   ]
  },
  {
   "cell_type": "code",
   "execution_count": null,
   "id": "081a5e33",
   "metadata": {},
   "outputs": [],
   "source": []
  },
  {
   "cell_type": "code",
   "execution_count": 4,
   "id": "11361f58",
   "metadata": {},
   "outputs": [
    {
     "name": "stdout",
     "output_type": "stream",
     "text": [
      "8\n",
      "9\n"
     ]
    }
   ],
   "source": [
    "## Multiple outputs\n",
    "#\n",
    "# You can show multiple command results by using the print() \"function\"\n",
    "\n",
    "print(2 ** 3)\n",
    "print(3 ** 2)"
   ]
  },
  {
   "cell_type": "code",
   "execution_count": 6,
   "id": "969027c1",
   "metadata": {},
   "outputs": [
    {
     "name": "stdout",
     "output_type": "stream",
     "text": [
      "3\n",
      "2\n",
      "1\n"
     ]
    }
   ],
   "source": [
    "## TRY IT\n",
    "# \n",
    "# Can you make Python display a countdown from 3 to 1\n",
    "# displaying the result in order?\n",
    "\n",
    "for i in range(3, 0, -1):\n",
    "    print(i)"
   ]
  },
  {
   "cell_type": "code",
   "execution_count": 7,
   "id": "3cd2d418",
   "metadata": {},
   "outputs": [
    {
     "name": "stdout",
     "output_type": "stream",
     "text": [
      "8 8\n"
     ]
    }
   ],
   "source": [
    "## What is a \"function\"?\n",
    "#\n",
    "# A function is command that runs a predefined set of commands\n",
    "# in order. Generally, but not always, functions take arguments as inputs. \n",
    "# Arguments are specified within () and separated by ,\n",
    "# More on functions in the next lecture\n",
    "#\n",
    "\n",
    "print(2 ** 3, 2 ** 3)"
   ]
  },
  {
   "cell_type": "code",
   "execution_count": 11,
   "id": "6806fc30",
   "metadata": {},
   "outputs": [
    {
     "name": "stdout",
     "output_type": "stream",
     "text": [
      "22 divided by 3 without the remainder is:  7\n",
      "22 divided by 3 without the remainder is: 7\n"
     ]
    }
   ],
   "source": [
    "# You can also use print to add comments to your outputs\n",
    "\n",
    "print(\"22 divided by 3 without the remainder is: \", 22 // 3)\n",
    "print(f\"22 divided by 3 without the remainder is: {22 // 3}\")"
   ]
  },
  {
   "cell_type": "code",
   "execution_count": 44,
   "id": "3dd2e8bd",
   "metadata": {},
   "outputs": [
    {
     "name": "stdout",
     "output_type": "stream",
     "text": [
      "22 // 3 returns 7\n",
      "but...\n",
      "22 % 3 returns 1\n"
     ]
    }
   ],
   "source": [
    "# // is called the \"Floor division\" operator. It drops the remainder.\n",
    "# % is the \"Modulus\" operator. It returns the remainder \n",
    "# of a division.\n",
    "\n",
    "print(\"22 // 3\", \"returns\", 22 // 3)\n",
    "print(\"but...\")\n",
    "print(\"22 % 3\", \"returns\", 22 % 3)"
   ]
  },
  {
   "cell_type": "code",
   "execution_count": 13,
   "id": "2fe1e278",
   "metadata": {},
   "outputs": [
    {
     "data": {
      "text/plain": [
       "'King George the 3rd'"
      ]
     },
     "execution_count": 13,
     "metadata": {},
     "output_type": "execute_result"
    }
   ],
   "source": [
    "###### Types and Typecasting #########\n",
    "#\n",
    "# There are many variable types. These are the three\n",
    "# basic ones. You'll learn more in the following days:\n",
    "#\n",
    "# Strings: Words! e.g. \"peppa\", \"pepper\", \"pepperina\", etc.\n",
    "# Integers: for counting e.g. 1, 2, -1, 77, etc.\n",
    "# Floats: for rational numbers e.g. 3.1234, -2.44, 4.20, etc\n",
    "#\n",
    "# DON'T FORGET THE QUOTES FOR STRINGS...\n",
    "# OTHERWISE PYTHON WILL YELL AT YOU\n",
    "#\n",
    "######################\n",
    "\n",
    "\"King George the 3rd\""
   ]
  },
  {
   "cell_type": "code",
   "execution_count": null,
   "id": "e53802c4",
   "metadata": {},
   "outputs": [],
   "source": [
    "## Can you use operators in strings? \n",
    "# For instance, try running\n",
    "# \"pork\" + \"chops\""
   ]
  },
  {
   "cell_type": "code",
   "execution_count": 14,
   "id": "aed387a0",
   "metadata": {},
   "outputs": [
    {
     "data": {
      "text/plain": [
       "'porkchops'"
      ]
     },
     "execution_count": 14,
     "metadata": {},
     "output_type": "execute_result"
    }
   ],
   "source": [
    "\"pork\" + \"chops\"\n",
    "\n",
    "# This is called \"concatenate\""
   ]
  },
  {
   "cell_type": "code",
   "execution_count": null,
   "id": "d84a0109",
   "metadata": {},
   "outputs": [],
   "source": [
    "# Sometimes...Python is a bit \"specific\"\n",
    "# about what operators can be used \n",
    "# with different types..."
   ]
  },
  {
   "cell_type": "code",
   "execution_count": null,
   "id": "8879ace8",
   "metadata": {},
   "outputs": [],
   "source": [
    "# try combining words with the other operators! \n",
    "# "
   ]
  },
  {
   "cell_type": "code",
   "execution_count": null,
   "id": "13c111ef",
   "metadata": {},
   "outputs": [],
   "source": [
    "##\n",
    "# ...can you concatenate an integer and strings?\n",
    "# \"UB\" + 40\n"
   ]
  },
  {
   "cell_type": "code",
   "execution_count": null,
   "id": "bf8b3c13",
   "metadata": {},
   "outputs": [],
   "source": [
    "## BUT THERE IS A SOLUTION: TYPECASTING!\n",
    "#\n",
    "# You can change the type by using the following\n",
    "# functios\n",
    "#\n",
    "# str() to typecast into String\n",
    "# int() to typecast into Integer\n",
    "# float() to typecast into Float\n",
    "#\n",
    "# You can use type() to verify the type\n",
    "# of a value or variable\n",
    "#\n",
    "# Try something like: str(3) + \"rd\"\n",
    "#"
   ]
  },
  {
   "cell_type": "code",
   "execution_count": 15,
   "id": "ee1de0c6",
   "metadata": {},
   "outputs": [
    {
     "data": {
      "text/plain": [
       "2"
      ]
     },
     "execution_count": 15,
     "metadata": {},
     "output_type": "execute_result"
    }
   ],
   "source": [
    "# This works most of the times...\n",
    "int(\"2\")"
   ]
  },
  {
   "cell_type": "code",
   "execution_count": null,
   "id": "3b3a9ad4",
   "metadata": {},
   "outputs": [],
   "source": [
    "## Typecasting may be more relevant once we start downloading data of different types into Python"
   ]
  },
  {
   "cell_type": "code",
   "execution_count": 16,
   "id": "a714a035",
   "metadata": {},
   "outputs": [
    {
     "data": {
      "text/plain": [
       "'Python goes brrrrrrrrrr'"
      ]
     },
     "execution_count": 16,
     "metadata": {},
     "output_type": "execute_result"
    }
   ],
   "source": [
    "## \n",
    "#What do you expect to get here (remember PEMDAS) \n",
    "\"Python goes b\" + 10 * \"r\" \n"
   ]
  },
  {
   "cell_type": "code",
   "execution_count": null,
   "id": "15cfd5fc",
   "metadata": {},
   "outputs": [],
   "source": [
    "###### Logical Operators #########\n",
    "#\n",
    "# You can compare values and Python will\n",
    "# tell you if you are lying or not.\n",
    "#\n",
    "# Try 3 > 5"
   ]
  },
  {
   "cell_type": "code",
   "execution_count": null,
   "id": "c4cc74f6",
   "metadata": {},
   "outputs": [],
   "source": [
    "## \n",
    "# The most common logical operators are\n",
    "#\n",
    "# >, <, >=, <=, ==\n",
    "#\n",
    "# != What is this one for? \n",
    "# \n",
    "# Test them out"
   ]
  },
  {
   "cell_type": "code",
   "execution_count": null,
   "id": "07955d3b",
   "metadata": {},
   "outputs": [],
   "source": [
    "## What is a Boolean?\n",
    "\n",
    "# A binary variable that either takes on the value of \"true\" or \"false\""
   ]
  },
  {
   "cell_type": "code",
   "execution_count": null,
   "id": "9d84c2f6",
   "metadata": {},
   "outputs": [],
   "source": [
    "##\n",
    "# You can combine logical operators\n",
    "# with \"and\" and \"or\", just like in\n",
    "# basic math logic\n",
    "#\n",
    "# Try this: 5 > 2 and 2 < 9\n"
   ]
  },
  {
   "cell_type": "code",
   "execution_count": null,
   "id": "e39e45c6",
   "metadata": {},
   "outputs": [],
   "source": [
    "##\n",
    "# It is generally a good idea to \n",
    "# use parentheses for clarity and \n",
    "# to clearly specify the order of \n",
    "# operations\n",
    "#\n",
    "# Is this: ((2 > 3) and (5 <= 5)) and ((-1 <= 0) or (9 >= 1))\n",
    "# the same as this?: (2 > 3) and (5 <= 5) and (-1 <= 0) or (9 >= 1) \n"
   ]
  },
  {
   "cell_type": "code",
   "execution_count": null,
   "id": "dc811ddc",
   "metadata": {},
   "outputs": [],
   "source": [
    "##\n",
    "# What is the type that you get\n",
    "# when you make a logical comparison\n",
    "# in Python? \n",
    "#\n",
    "# Use the type() function"
   ]
  },
  {
   "cell_type": "code",
   "execution_count": 17,
   "id": "23ea60ad",
   "metadata": {},
   "outputs": [
    {
     "data": {
      "text/plain": [
       "True"
      ]
     },
     "execution_count": 17,
     "metadata": {},
     "output_type": "execute_result"
    }
   ],
   "source": [
    "3 > 2"
   ]
  },
  {
   "cell_type": "code",
   "execution_count": null,
   "id": "2e5b4205",
   "metadata": {},
   "outputs": [],
   "source": [
    "###### Variables #########\n",
    "#\n",
    "# You can store the value of a calculation\n",
    "# by using =\n",
    "##\n",
    "#\n",
    "# When you type a = 10\n",
    "#\n",
    "# the computer understand this:\n",
    "#\n",
    "# Let's find a place in the computer \n",
    "# memory (RAM) that is empty, let's call.\n",
    "# it \"a\". Now \"a\" will have a value of \"10\"\n",
    "# \n",
    "# Whenever you type \"a\" again, the computer\n",
    "# will read what the value of \"a\" is. \n",
    "#\n",
    "# In Python, \"a\" is now a variable.\n",
    "# \n",
    "# What do you expect from the following lines \n",
    "# of code?\n",
    "#\n",
    "# a = 10\n",
    "# a = a * \"ten\" \n",
    "# a\n",
    "#\n",
    "######################"
   ]
  },
  {
   "cell_type": "code",
   "execution_count": 18,
   "id": "a28b53c5",
   "metadata": {},
   "outputs": [
    {
     "data": {
      "text/plain": [
       "'tentententententententententen'"
      ]
     },
     "execution_count": 18,
     "metadata": {},
     "output_type": "execute_result"
    }
   ],
   "source": [
    "a = 10\n",
    "a = a * \"ten\" \n",
    "a"
   ]
  },
  {
   "cell_type": "code",
   "execution_count": 47,
   "id": "751b186f",
   "metadata": {},
   "outputs": [
    {
     "data": {
      "text/plain": [
       "14.0"
      ]
     },
     "execution_count": 47,
     "metadata": {},
     "output_type": "execute_result"
    }
   ],
   "source": [
    "##\n",
    "# Excercise:\n",
    "#\n",
    "# Let's use this cell to compute the \n",
    "# area of a rectangle using variables\n",
    "#\n",
    "# We know that:\n",
    "#\n",
    "# Area = base x height\n",
    "#\n",
    "# So, we need two parameters to calculate\n",
    "# the area. Let them be b and h\n",
    "#\n",
    "# Write code to define 2 variables, b and h, and calculate the area of the triangle\n",
    "\n",
    "def triangle(base, height):\n",
    "    return base * height / 2\n",
    "\n",
    "\n",
    "triangle(10, 5)\n",
    "triangle(4,7)"
   ]
  },
  {
   "cell_type": "code",
   "execution_count": 19,
   "id": "389ab044",
   "metadata": {},
   "outputs": [
    {
     "data": {
      "text/plain": [
       "int"
      ]
     },
     "execution_count": 19,
     "metadata": {},
     "output_type": "execute_result"
    }
   ],
   "source": [
    "# Ints vs floats\n",
    "\n",
    "# An integer is a number without a decimal point\n",
    "# Example: this shows when assigning an int to a variable, data type is 'int'\n",
    "x = 4\n",
    "type(x)"
   ]
  },
  {
   "cell_type": "code",
   "execution_count": 20,
   "id": "f3fb2bb2",
   "metadata": {},
   "outputs": [
    {
     "data": {
      "text/plain": [
       "float"
      ]
     },
     "execution_count": 20,
     "metadata": {},
     "output_type": "execute_result"
    }
   ],
   "source": [
    "# Ints vs floats\n",
    "\n",
    "# A float is a number with a decimal, however that decimal can be 0 (ex. 4.0)\n",
    "#Example: this shows when assigning a float to a variable, data type is 'float'\n",
    "y = 5.1\n",
    "type(y)"
   ]
  },
  {
   "cell_type": "code",
   "execution_count": 21,
   "id": "21d1a467",
   "metadata": {},
   "outputs": [
    {
     "name": "stdout",
     "output_type": "stream",
     "text": [
      "-1.0999999999999996\n"
     ]
    }
   ],
   "source": [
    "# Ints vs floats\n",
    "#Example 3: when doing math, ints and floats can be used\n",
    "print(x - y)\n",
    "# However, you will have to deal with how Python handles precision"
   ]
  },
  {
   "cell_type": "code",
   "execution_count": 25,
   "id": "23d9138b",
   "metadata": {},
   "outputs": [
    {
     "name": "stdout",
     "output_type": "stream",
     "text": [
      "18\n",
      "18.0\n",
      "15.299999999999999\n",
      "15.3\n"
     ]
    }
   ],
   "source": [
    "# Try printing the product of:\n",
    "# 1) 2 ints\n",
    "# 2) 2 floats\n",
    "# 3) an int and a float\n",
    "\n",
    "print(3*6)\n",
    "print(3.0*6.0)\n",
    "#Round to the 1st decimal\n",
    "print(3*5.1)\n",
    "result = 3 * 5.1\n",
    "rounded_result = round(result, 1)\n",
    "print(rounded_result)"
   ]
  },
  {
   "cell_type": "code",
   "execution_count": null,
   "id": "f5689147",
   "metadata": {},
   "outputs": [],
   "source": [
    "# Know that you may get imprecision like above - it's not important to understand why here"
   ]
  },
  {
   "cell_type": "code",
   "execution_count": null,
   "id": "5ac1a7c4",
   "metadata": {},
   "outputs": [],
   "source": [
    "# Another type of object is a string\n",
    "\n",
    "t = \"elephant\"\n",
    "type(t)"
   ]
  },
  {
   "cell_type": "code",
   "execution_count": null,
   "id": "40f20147",
   "metadata": {},
   "outputs": [],
   "source": [
    "# You can use single or double or triple quotes for a string, doesn't matter\n",
    "t = '''elephant'''\n",
    "t"
   ]
  },
  {
   "cell_type": "code",
   "execution_count": null,
   "id": "1b088527",
   "metadata": {},
   "outputs": [],
   "source": [
    "# Questions?"
   ]
  },
  {
   "cell_type": "code",
   "execution_count": null,
   "id": "6311ce08",
   "metadata": {},
   "outputs": [],
   "source": [
    "# Functions and Methods\n",
    "\n",
    "# A function is a block of code that is run when called and usually returns something. You can pass through data, parameters, \n",
    "# and other functions in a function. Once a function runs, it returns some result.\n",
    "\n",
    "# There are lots of built in functions -- the len function returns the length of a string\n",
    "len(\"harry agganis\")\n",
    "\n",
    "#Syntax: Function(argument1, argument2)"
   ]
  },
  {
   "cell_type": "code",
   "execution_count": null,
   "id": "d0208f80",
   "metadata": {},
   "outputs": [],
   "source": [
    "# Print is a function\n",
    "print('function')"
   ]
  },
  {
   "cell_type": "code",
   "execution_count": 28,
   "id": "6ddc7bc7",
   "metadata": {},
   "outputs": [
    {
     "name": "stdout",
     "output_type": "stream",
     "text": [
      "Example: hello, I am a computer\n"
     ]
    }
   ],
   "source": [
    "# You can define your own functions\n",
    "# Example: a function with no parameters\n",
    "\n",
    "def hello_world():\n",
    "    \"\"\"Returns a statement that pretends to be a computer.\"\"\"\n",
    "    # These triple quotes within a function, as the first line, are called a docstring\n",
    "    # and they associate a little \"blurb\" with your function\n",
    "    a = \"Example: hello, I am a computer\"\n",
    "    return(a)\n",
    "    \n",
    "\n",
    "# Testing This Example\n",
    "out = hello_world()\n",
    "print(out)\n",
    "\n",
    "\n",
    "# The syntax always looks the same:\n",
    "# we have a \"def\" statement and then the name of the function with its arguments (separated by commas)\n",
    "# Then we have a COLON\n",
    "# Anything after a colon is always indented in python\n",
    "# We can use the argument (that we defined) in any way in the function and it can span multiple lines\n",
    "# Functions should have a return() on the last line\n",
    "# Returning is different than printing: \n",
    "    # return is what the function gives back -- we can store that \n",
    "    # print shows it "
   ]
  },
  {
   "cell_type": "code",
   "execution_count": 29,
   "id": "7282bdf9",
   "metadata": {},
   "outputs": [
    {
     "name": "stdout",
     "output_type": "stream",
     "text": [
      "return\n"
     ]
    }
   ],
   "source": [
    "def test():\n",
    "    b = \"return\"\n",
    "    return(b)\n",
    "\n",
    "grab = test()\n",
    "print(grab)"
   ]
  },
  {
   "cell_type": "code",
   "execution_count": 30,
   "id": "06ccb0f6",
   "metadata": {},
   "outputs": [
    {
     "name": "stdout",
     "output_type": "stream",
     "text": [
      "I am super super super super super super super hungry\n"
     ]
    }
   ],
   "source": [
    "# Add a parameter to a function\n",
    "\n",
    "def how_hungry(x):\n",
    "    \"\"\"Returns a statement of hunger.\"\"\"\n",
    "    # These triple quotes within a function, as the first line, are called a docstring\n",
    "    # and they associate a little \"blurb\" with your function\n",
    "    myhunger = \"I am\" + (\" super\"*x) + \" \" + \"hungry\"\n",
    "    return(myhunger)\n",
    "\n",
    "# Testing This Example\n",
    "out = how_hungry(7)\n",
    "print(out)"
   ]
  },
  {
   "cell_type": "code",
   "execution_count": 31,
   "id": "62b96c1b",
   "metadata": {},
   "outputs": [],
   "source": [
    "def add1(x):\n",
    "    \"\"\"Add 1 to your argument\"\"\"\n",
    "    return(x+1)"
   ]
  },
  {
   "cell_type": "code",
   "execution_count": 32,
   "id": "390074ba",
   "metadata": {},
   "outputs": [
    {
     "name": "stdout",
     "output_type": "stream",
     "text": [
      "Help on function hello_world in module __main__:\n",
      "\n",
      "hello_world()\n",
      "    Returns a statement that pretends to be a computer.\n",
      "\n"
     ]
    }
   ],
   "source": [
    "help(hello_world)\n",
    "    # This will return your docstring "
   ]
  },
  {
   "cell_type": "code",
   "execution_count": 33,
   "id": "1516ff33",
   "metadata": {},
   "outputs": [
    {
     "name": "stdout",
     "output_type": "stream",
     "text": [
      "Help on function how_hungry in module __main__:\n",
      "\n",
      "how_hungry(x)\n",
      "    Returns a statement of hunger.\n",
      "\n"
     ]
    }
   ],
   "source": [
    "help(how_hungry)"
   ]
  },
  {
   "cell_type": "code",
   "execution_count": null,
   "id": "adf8fd2d",
   "metadata": {},
   "outputs": [],
   "source": [
    "###### Quick Exercises #####\n",
    "#\n",
    "# Let's write a couple of functions\n",
    "#\n",
    "#\n",
    "# (1) Write a function that converts celsius\n",
    "#     to farenheit.\n",
    "#\n",
    "# (2) Write a function that takes x dollars,\n",
    "#     today's exchange rate of USD to Euros\n",
    "#     and returns the value of x in Euros\n",
    "#     \n",
    "#  - Think about ways that users can incorrectly\n",
    "#   use your function and what can you do to prevent\n",
    "#   this misuse.\n",
    "#\n",
    "######################"
   ]
  },
  {
   "cell_type": "code",
   "execution_count": 57,
   "id": "bd6c1351",
   "metadata": {},
   "outputs": [],
   "source": [
    "def dolalr(x):\n",
    "    \"\"\"Convert USD to Euros\"\"\"\n",
    "    return(x * 0.91)  # As of June 2024"
   ]
  },
  {
   "cell_type": "code",
   "execution_count": 49,
   "id": "28783495",
   "metadata": {},
   "outputs": [
    {
     "data": {
      "text/plain": [
       "113.0"
      ]
     },
     "execution_count": 49,
     "metadata": {},
     "output_type": "execute_result"
    }
   ],
   "source": [
    "def convert (celcius):\n",
    "    return (celcius * 9/5) + 32\n",
    "\n",
    "convert(45)"
   ]
  },
  {
   "cell_type": "code",
   "execution_count": 59,
   "id": "f508a462",
   "metadata": {},
   "outputs": [
    {
     "data": {
      "text/plain": [
       "45.3592"
      ]
     },
     "execution_count": 59,
     "metadata": {},
     "output_type": "execute_result"
    }
   ],
   "source": [
    "#make a function that converst pounds to kilograms\n",
    "def pounds_to_kg(pounds):\n",
    "    \"\"\"Convert pounds to kilograms\"\"\"\n",
    "    return pounds * 0.453592    \n",
    "\n",
    "pounds_to_kg(100)"
   ]
  },
  {
   "cell_type": "code",
   "execution_count": 50,
   "id": "77dbf872",
   "metadata": {},
   "outputs": [],
   "source": [
    "## Functions output things that can go into other functions"
   ]
  },
  {
   "cell_type": "code",
   "execution_count": 51,
   "id": "def9d88b",
   "metadata": {},
   "outputs": [],
   "source": [
    "# Let's pause here for questions! "
   ]
  },
  {
   "cell_type": "code",
   "execution_count": 52,
   "id": "3e3bae1b",
   "metadata": {},
   "outputs": [
    {
     "data": {
      "text/plain": [
       "'TEST'"
      ]
     },
     "execution_count": 52,
     "metadata": {},
     "output_type": "execute_result"
    }
   ],
   "source": [
    "# Functions and Methods\n",
    "\n",
    "# A method is a function that can be run on that thing/type/object python is storing \n",
    "\n",
    "# Methods are just a function that is baked-in to the specific object\n",
    "# We call them using object.method(x)\n",
    "    # (There may not need to be any parameter where the x is)\n",
    "\n",
    "# Example: Making a string uppercase.\n",
    "# \"upper\" is a method defined for all strings that makes a string uppercase. \n",
    "a = \"test\"\n",
    "a.upper()\n",
    "\n",
    "# You can see all the methods for the string class here:\n",
    "# https://docs.python.org/2.5/lib/string-methods.html \n",
    "#\n",
    "#\n",
    "# To execute a METHOD you need to type first an OBJECT of \n",
    "# a given CLASS. Then type a period and, finally, the name of the method.\n",
    "#\n",
    "#\n",
    "## Syntax overview:\n",
    "\n",
    "# Function: General Purpose, will take any x\n",
    "# f(x) \n",
    "\n",
    "# Method: Only works for the specific class of x\n",
    "# x.f()\n",
    "######################\n"
   ]
  },
  {
   "cell_type": "code",
   "execution_count": 53,
   "id": "5a7c1fab",
   "metadata": {},
   "outputs": [
    {
     "data": {
      "text/plain": [
       "4"
      ]
     },
     "execution_count": 53,
     "metadata": {},
     "output_type": "execute_result"
    }
   ],
   "source": [
    "## Methods vs functions are super inconsistent\n",
    "# Len is a function that returns the length of a string; it is not a method\n",
    "len(\"test\")"
   ]
  },
  {
   "cell_type": "code",
   "execution_count": 54,
   "id": "3ad058a4",
   "metadata": {
    "scrolled": true
   },
   "outputs": [
    {
     "ename": "AttributeError",
     "evalue": "'str' object has no attribute 'len'",
     "output_type": "error",
     "traceback": [
      "\u001b[0;31m---------------------------------------------------------------------------\u001b[0m",
      "\u001b[0;31mAttributeError\u001b[0m                            Traceback (most recent call last)",
      "Cell \u001b[0;32mIn[54], line 3\u001b[0m\n\u001b[1;32m      1\u001b[0m \u001b[38;5;66;03m# This breaks: \u001b[39;00m\n\u001b[1;32m      2\u001b[0m a \u001b[38;5;241m=\u001b[39m \u001b[38;5;124m\"\u001b[39m\u001b[38;5;124mtest\u001b[39m\u001b[38;5;124m\"\u001b[39m\n\u001b[0;32m----> 3\u001b[0m \u001b[43ma\u001b[49m\u001b[38;5;241;43m.\u001b[39;49m\u001b[43mlen\u001b[49m()\n",
      "\u001b[0;31mAttributeError\u001b[0m: 'str' object has no attribute 'len'"
     ]
    }
   ],
   "source": [
    "# This breaks: \n",
    "a = \"test\"\n",
    "a.len()"
   ]
  },
  {
   "cell_type": "code",
   "execution_count": null,
   "id": "7ce06d83",
   "metadata": {},
   "outputs": [
    {
     "name": "stdout",
     "output_type": "stream",
     "text": [
      "It was the best of times, it was the worst of times,\n",
      "it was the age of wisdom, it was the age of foolishness,\n",
      "it was the epoch of belief,  it was the epoch of incredulity,\n",
      "it was the season of light, it was the season of darkness, \n",
      "it was the spring of hope, it was the winter of despair.\n"
     ]
    }
   ],
   "source": [
    "## Lots of string methods are available!\n",
    "\n",
    "dickens = '''It was the best of times, it was the worst of times,\n",
    "it was the age of wisdom, it was the age of foolishness,\n",
    "it was the epoch of belief,  it was the epoch of incredulity,\n",
    "it was the season of light, it was the season of darkness, \n",
    "it was the spring of hope, it was the winter of despair.''' \n",
    "\n",
    "print(dickens)\n"
   ]
  },
  {
   "cell_type": "code",
   "execution_count": null,
   "id": "15f3ef5c",
   "metadata": {},
   "outputs": [
    {
     "name": "stdout",
     "output_type": "stream",
     "text": [
      "It was the best of classes, it was the worst of classes,\n",
      "it was the age of wisdom, it was the age of foolishness,\n",
      "it was the epoch of belief,  it was the epoch of incredulity,\n",
      "it was the season of light, it was the season of darkness, \n",
      "it was the spring of hope, it was the winter of despair.\n"
     ]
    }
   ],
   "source": [
    "dickens = dickens.replace(\"times\", \"classes\")\n",
    "\n",
    "print(dickens)"
   ]
  },
  {
   "cell_type": "code",
   "execution_count": null,
   "id": "21d3d25c",
   "metadata": {},
   "outputs": [
    {
     "name": "stdout",
     "output_type": "stream",
     "text": [
      "To be, or not to be, that is the question\n",
      "2 b, or not 2 b, that's the q\n"
     ]
    }
   ],
   "source": [
    "# Modern Hamlet\n",
    "\n",
    "hamlet = \"To be, or not to be, that is the question\"\n",
    "print(hamlet)\n",
    "\n",
    "hamlet = hamlet.replace(\"To\", \"2\")\n",
    "hamlet = hamlet.replace(\"to\", \"2\")\n",
    "hamlet = hamlet.replace(\"be\", \"b\")\n",
    "hamlet = hamlet.replace(\"that is the\", \"that's the\")\n",
    "hamlet = hamlet.replace(\"question\", \"q\")\n",
    "print(hamlet)"
   ]
  },
  {
   "cell_type": "code",
   "execution_count": null,
   "id": "0f88da98",
   "metadata": {},
   "outputs": [
    {
     "name": "stdout",
     "output_type": "stream",
     "text": [
      "HELLO\n",
      "hello\n"
     ]
    }
   ],
   "source": [
    "# Note: the replace method does not change things in place\n",
    "# Strings are \"immutable\" -- you can't change them in place, \n",
    "# but you can create new variables with the changes\n",
    "x = \"hello\"\n",
    "print(x.upper())\n",
    "print(x)"
   ]
  },
  {
   "cell_type": "code",
   "execution_count": null,
   "id": "0d7ebbb9",
   "metadata": {},
   "outputs": [
    {
     "name": "stdout",
     "output_type": "stream",
     "text": [
      "IT WAS THE BEST OF CLASSES, IT WAS THE WORST OF CLASSES\n"
     ]
    }
   ],
   "source": [
    "# Methods stacked\n",
    "dickens2 = '''It was the best of times, it was the worst of times'''\n",
    "dickens3 = dickens2.upper().replace(\"TIMES\", \"CLASSES\")\n",
    "\n",
    "print(dickens3)"
   ]
  },
  {
   "cell_type": "code",
   "execution_count": null,
   "id": "fd4ad18d",
   "metadata": {},
   "outputs": [],
   "source": [
    "### Exercise if we have time ###\n",
    "\n",
    "#1. Write a function that takes in a string value and returns the same string with all letters in uppercase"
   ]
  },
  {
   "cell_type": "code",
   "execution_count": null,
   "id": "a01c7ef0",
   "metadata": {},
   "outputs": [],
   "source": [
    "### END OF BASICS OF PYTHON"
   ]
  },
  {
   "cell_type": "code",
   "execution_count": null,
   "id": "946684f8-8d45-4371-be01-b6138f771a13",
   "metadata": {},
   "outputs": [],
   "source": [
    "### COMPLETED OBJECTIVES\n",
    "\n",
    "#1. Successfully download and Open Anaconda/Jupyter/Python Notebook\n",
    "#2. Become familiar with the basics of using Jupyter Notebook/Python as a glorified calculator\n",
    "#3. Learn the differnce between Types in Python (str, int, float, bool, etc)\n",
    "#4. Utillize letters and words as variables in which values are stored\n",
    "#5. Review different types and how they interact with each other when operators are used (add/subtract/etc)\n",
    "#6. Learn what a function is and the proper syntax of creating a function in Python\n",
    "#7. Practice making and using functions in Python\n",
    "#8. Understand what a Method is, and the distinction between a Method and a Function\n",
    "#9. Disregard"
   ]
  },
  {
   "cell_type": "code",
   "execution_count": 60,
   "id": "0b16b93d",
   "metadata": {},
   "outputs": [
    {
     "name": "stdout",
     "output_type": "stream",
     "text": [
      "key: a, value: 1\n",
      "key: b, value: 2\n",
      "key: c, value: 3\n"
     ]
    }
   ],
   "source": [
    "#something for fun\n",
    "\n",
    "dict = {'a':1, 'b':2, 'c':3}\n",
    "\n",
    "for key, value in dict.items():\n",
    "    print(f\"key: {key}, value: {value}\")"
   ]
  }
 ],
 "metadata": {
  "kernelspec": {
   "display_name": "Python 3",
   "language": "python",
   "name": "python3"
  },
  "language_info": {
   "codemirror_mode": {
    "name": "ipython",
    "version": 3
   },
   "file_extension": ".py",
   "mimetype": "text/x-python",
   "name": "python",
   "nbconvert_exporter": "python",
   "pygments_lexer": "ipython3",
   "version": "3.11.11"
  }
 },
 "nbformat": 4,
 "nbformat_minor": 5
}
