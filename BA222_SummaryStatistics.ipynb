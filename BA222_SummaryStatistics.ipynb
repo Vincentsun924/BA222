{
 "cells": [
  {
   "cell_type": "code",
   "execution_count": null,
   "id": "7bb6b2db",
   "metadata": {},
   "outputs": [],
   "source": [
    "# Pandas continued + Summary Stats\n",
    "# BA 222 \n",
    "# Prof Munshi"
   ]
  },
  {
   "cell_type": "code",
   "execution_count": null,
   "id": "9b4ea23d",
   "metadata": {},
   "outputs": [],
   "source": [
    "### Big takeaways so far:\n",
    "\n",
    "## Pandas is a great tool for showing and manipulating data frames in Python\n",
    "## It has a reasonably simple syntax for selecting subsets of your data\n",
    "## It is fast, working with hundreds of thousands of rows with no problem and not crashing\n",
    "## As mentioned before, thats the big advantage of Python over Excel\n"
   ]
  },
  {
   "cell_type": "code",
   "execution_count": null,
   "id": "a911e8b8",
   "metadata": {},
   "outputs": [],
   "source": [
    "# Standard load in is to call pandas \"pd\" \n",
    "import pandas as pd"
   ]
  },
  {
   "cell_type": "code",
   "execution_count": null,
   "id": "b41b2318",
   "metadata": {},
   "outputs": [],
   "source": [
    "## We can read a csv using the read_csv function\n",
    "flights = pd.read_csv(\"/Users/viditm/Downloads/flights.csv\")\n",
    "flights"
   ]
  },
  {
   "cell_type": "code",
   "execution_count": null,
   "id": "b9ea5f14",
   "metadata": {},
   "outputs": [],
   "source": [
    "# Super fast review of some key summary statistics..."
   ]
  },
  {
   "cell_type": "code",
   "execution_count": null,
   "id": "8b20a0b9",
   "metadata": {},
   "outputs": [],
   "source": [
    "# Numeric data: you can create the usual summary statistics\n",
    "# Using methods on the Dist series \n",
    "Dist = flights[\"DISTANCE\"]\n",
    "\n",
    "#Here's the mean distance of flights\n",
    "flights[\"DISTANCE\"].mean()\n",
    "Dist.mean()"
   ]
  },
  {
   "cell_type": "code",
   "execution_count": null,
   "id": "10d874be",
   "metadata": {},
   "outputs": [],
   "source": [
    "# How about the mean of 2 variables at the same time?\n",
    "\n",
    "flights[[\"DISTANCE\",\"DAY\"]].mean()"
   ]
  },
  {
   "cell_type": "code",
   "execution_count": null,
   "id": "da1d320e",
   "metadata": {},
   "outputs": [],
   "source": [
    "# Standard deviation of distance of flights \n",
    "Dist.std()"
   ]
  },
  {
   "cell_type": "code",
   "execution_count": null,
   "id": "bb62f256",
   "metadata": {},
   "outputs": [],
   "source": [
    "#Minimum and maximum\n",
    "print(\"Min Dist:\", Dist.min())\n",
    "print(\"Max Dist:\", Dist.max())\n",
    "#Notice I can use regular python expressions here, like Print, with Pandas commands"
   ]
  },
  {
   "cell_type": "code",
   "execution_count": null,
   "id": "5b0b7ac6",
   "metadata": {},
   "outputs": [],
   "source": [
    "# Median of distance \n",
    "Dist.median()"
   ]
  },
  {
   "cell_type": "code",
   "execution_count": null,
   "id": "c834072a",
   "metadata": {},
   "outputs": [],
   "source": [
    "# Percentiles use the \"quantile\" function and expect a value between 0 and 1\n",
    "# i.e. pass it 0.6 for the 60th pecentile, not 60\n",
    "Dist.quantile(0.75)"
   ]
  },
  {
   "cell_type": "code",
   "execution_count": null,
   "id": "aeed21bb",
   "metadata": {},
   "outputs": [],
   "source": [
    "# Sum of a variable\n",
    "print(Dist.sum())\n",
    "\n",
    "# Count of values\n",
    "print(Dist.count())"
   ]
  },
  {
   "cell_type": "code",
   "execution_count": null,
   "id": "2d4d734d",
   "metadata": {},
   "outputs": [],
   "source": [
    "flights16 = flights[flights[\"DAY\"] == 16]\n",
    "flights16[\"DISTANCE\"].mean()"
   ]
  },
  {
   "cell_type": "code",
   "execution_count": null,
   "id": "a698aebf",
   "metadata": {},
   "outputs": [],
   "source": [
    "## We can now compare summary statistics about a subset of the data to the whole\n",
    "\n",
    "# QUESTION: \n",
    "\n",
    "print(\"Flights on the 16th mean distance\")\n",
    "print(flights16[\"DISTANCE\"].mean())\n",
    "print(\"All flights mean distance\")\n",
    "print(flights[\"DISTANCE\"].mean())"
   ]
  },
  {
   "cell_type": "code",
   "execution_count": null,
   "id": "31c2ffdf",
   "metadata": {},
   "outputs": [],
   "source": [
    "# And of course after showing you all the manual ways of doing things\n",
    "# Here's the cheat to see it all at the same time...\n",
    "Dist.describe()"
   ]
  },
  {
   "cell_type": "code",
   "execution_count": null,
   "id": "8060d6e4",
   "metadata": {},
   "outputs": [],
   "source": [
    "### EXERCISE\n",
    "\n",
    "#1. Write code to find the day of the month that had the largest mean distance flown\n",
    "#   Report both the date and the mean value"
   ]
  },
  {
   "cell_type": "code",
   "execution_count": null,
   "id": "114cf7b6",
   "metadata": {
    "scrolled": true
   },
   "outputs": [],
   "source": [
    "### Dummy/Indicator Variables\n",
    "\n",
    "# The column CANCELLED takes on the value 1 if a flight is cancelled, and 0 otherwise\n",
    "# This is called an Indicator or Dummy variable.  \n",
    "\n",
    "# imagine 5 flights, of which 2 are cancelled. We see for example: [0, 0, 1, 0, 1]\n",
    "# How can we find the fraction of cancelled flights?"
   ]
  },
  {
   "cell_type": "code",
   "execution_count": null,
   "id": "5bc129d7",
   "metadata": {},
   "outputs": [],
   "source": [
    "# Suppose we want the \"Cancelled\" column ONLY for AA flights\n",
    "flights[flights[\"AIRLINE\"] == \"AA\"][\"CANCELLED\"]"
   ]
  },
  {
   "cell_type": "code",
   "execution_count": null,
   "id": "d2fa7d9f",
   "metadata": {
    "scrolled": true
   },
   "outputs": [],
   "source": [
    "# Then we want the mean of that column\n",
    "flights[flights[\"AIRLINE\"] == \"AA\"][\"CANCELLED\"].mean()\n",
    "\n",
    "# 2% of AA flights were cancelled that month"
   ]
  },
  {
   "cell_type": "code",
   "execution_count": null,
   "id": "d7eaca3c",
   "metadata": {
    "scrolled": true
   },
   "outputs": [],
   "source": [
    "### LONGER EXERCISE ###\n",
    "# What is the length of the shortest flight by distance\n",
    "# that United Airlines flew that was delayed but not cancelled?\n"
   ]
  },
  {
   "cell_type": "code",
   "execution_count": null,
   "id": "ef870b71",
   "metadata": {},
   "outputs": [],
   "source": [
    "### SOME HELP:\n",
    "# We want the min of the flight distance column, selecting on \n",
    "# AIRLINE == UA  &  ARRIVAL_DELAY > 0 & CANCELLED == 0 "
   ]
  },
  {
   "cell_type": "code",
   "execution_count": null,
   "id": "64df3156",
   "metadata": {},
   "outputs": [],
   "source": [
    "## Groupby\n",
    "\n",
    "## Pandas has a syntax called \"groupby\" that is the equivalent of a pivot table in Excel\n",
    "## Suppose you want to know the summary statistics, split out by a certain category\n",
    "\n",
    "## E.g. you want mean distance flow per airline\n",
    "## Or you want count per airline\n",
    "\n",
    "## You use the following syntax:\n",
    "## DataFrame[List of Columns you want].groupby(GroupingColumn).agg(List of Statistics)\n",
    "\n",
    "\n",
    "## For example, here are the mean and count of distance by airline\n",
    "flights[[\"AIRLINE\", \"DISTANCE\"]].groupby(\"AIRLINE\").agg(['count', 'mean'])"
   ]
  },
  {
   "cell_type": "code",
   "execution_count": null,
   "id": "7c7ed89f",
   "metadata": {},
   "outputs": [],
   "source": [
    "### Lets try another: what is the mean cancellation (% cancelled) per day\n",
    "\n",
    "## I want to group by day, and take the mean of the delay column\n",
    "# Build this up step by step \n",
    "\n",
    "# First just grab the cancelled and day column\n",
    "flights[[\"CANCELLED\", \"DAY\"]]"
   ]
  },
  {
   "cell_type": "code",
   "execution_count": null,
   "id": "ba5fa9f3",
   "metadata": {},
   "outputs": [],
   "source": [
    "## Group by day -- this is not useful by itself with the agg method!\n",
    "flights[[\"CANCELLED\", \"DAY\"]].groupby(\"DAY\")"
   ]
  },
  {
   "cell_type": "code",
   "execution_count": null,
   "id": "9ad496e2",
   "metadata": {},
   "outputs": [],
   "source": [
    "# Then take the mean per day \n",
    "flights[[\"CANCELLED\", \"DAY\"]].groupby(\"DAY\").agg(['mean'])"
   ]
  },
  {
   "cell_type": "code",
   "execution_count": null,
   "id": "1a74dffc",
   "metadata": {},
   "outputs": [],
   "source": [
    "### Try if we have time:\n",
    "## Find the min, max, median and standard deviation\n",
    "# of flight distances by airline of flights that\n",
    "# depart from BOS"
   ]
  }
 ],
 "metadata": {
  "kernelspec": {
   "display_name": "Python 3 (ipykernel)",
   "language": "python",
   "name": "python3"
  },
  "language_info": {
   "codemirror_mode": {
    "name": "ipython",
    "version": 3
   },
   "file_extension": ".py",
   "mimetype": "text/x-python",
   "name": "python",
   "nbconvert_exporter": "python",
   "pygments_lexer": "ipython3",
   "version": "3.12.7"
  }
 },
 "nbformat": 4,
 "nbformat_minor": 5
}
