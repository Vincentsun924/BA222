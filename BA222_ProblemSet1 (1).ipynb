{
 "cells": [
  {
   "cell_type": "code",
   "execution_count": null,
   "id": "7192aa1e",
   "metadata": {},
   "outputs": [],
   "source": [
    "# PROBLEM SET 1\n",
    "# DUE FRIDAY SEPTEMBER 19 at 11:55pm\n",
    "# PLEASE UPLOAD:\n",
    "#1. Your completed ipynb file"
   ]
  },
  {
   "cell_type": "code",
   "execution_count": null,
   "id": "635b4efd",
   "metadata": {},
   "outputs": [],
   "source": [
    "# PART 1: Debugging\n",
    "\n",
    "# Identify the bugs in the following cells and fix them. Recall that a bug is not always\n",
    "# a Syntax error, it can also be an undesired result or a conceptual error.\n",
    "\n",
    "# You do not need to re-write code to achieve what the question wants\n",
    "# The code there just needs small fixing to get it to output correctly"
   ]
  },
  {
   "cell_type": "code",
   "execution_count": 2,
   "id": "f3cf4254",
   "metadata": {},
   "outputs": [
    {
     "name": "stdout",
     "output_type": "stream",
     "text": [
      "64\n"
     ]
    },
    {
     "data": {
      "text/plain": [
       "'Bug is that ^ is not the correct operator for exponentiation in Python, you have to use ** instead.'"
      ]
     },
     "execution_count": 2,
     "metadata": {},
     "output_type": "execute_result"
    }
   ],
   "source": [
    "# 1.1 Data Types / Basic Python Operations\n",
    "\n",
    "# This cell should take two numbers a and b, and return\n",
    "# a to the power of b\n",
    "\n",
    "a = 8\n",
    "b = 2\n",
    "\n",
    "# a ^ b\n",
    "\n",
    "#correct\n",
    "print(a**b)\n",
    "\n",
    "'''Bug is that ^ is not the correct operator for exponentiation in Python, you have to use ** instead.'''"
   ]
  },
  {
   "cell_type": "code",
   "execution_count": null,
   "id": "25facb3a",
   "metadata": {},
   "outputs": [
    {
     "name": "stdout",
     "output_type": "stream",
     "text": [
      "hahaha\n"
     ]
    },
    {
     "data": {
      "text/plain": [
       "'you are using the division operator for strings, which is not defined, you need to use the multiplication operator *, also for strings, you need to put them in quotes'"
      ]
     },
     "execution_count": 4,
     "metadata": {},
     "output_type": "execute_result"
    }
   ],
   "source": [
    "# 1.2 Data Types / Basic Python Operations\n",
    "\n",
    "# This cell should take a string s and print s a number of b\n",
    "# times\n",
    "\n",
    "s = \"ha\"\n",
    "b = 3\n",
    "\n",
    "#print(s / b)\n",
    "\n",
    "#correct\n",
    "print(s * b)\n",
    "\n",
    "\"you are using the division operator for strings, which is not defined, you need to use the multiplication operator *, also for strings, you need to put them in quotes\""
   ]
  },
  {
   "cell_type": "code",
   "execution_count": 17,
   "id": "44e99dd1",
   "metadata": {},
   "outputs": [
    {
     "name": "stdout",
     "output_type": "stream",
     "text": [
      "10 plus 2 is equal to 12\n",
      "10  minus   2   is equal to   12\n",
      "10 minus 2 is equal to 12\n",
      "10 minus 2 is equal to 12\n"
     ]
    }
   ],
   "source": [
    "# 1.3 Data Types / Basic Python Operations\n",
    "\n",
    "# This cell should take three numbers: a, b and c\n",
    "# and then print:\n",
    "# '_a_ plus _b_ is equal to: _a + b_'\n",
    "# '_a_ minus _b_ is equal to: _a - b_'\n",
    "# '_a_ times _b_ is equal to: _a * b_'\n",
    "# '_a_ divided by _b_ is equal to: _a / b_'\n",
    "\n",
    "a = 10\n",
    "b = '2'\n",
    "\n",
    "mySum = a + int(b)\n",
    "mySub = int(b) - a\n",
    "myPro = a * a\n",
    "# myDiv = a ÷ b\n",
    "#correct\n",
    "myDiv = a / int(b)\n",
    "\n",
    "equal = \" is equal to \"\n",
    "\n",
    "operator = ' plus '\n",
    "print(str(a) + operator + b + equal + str(mySum))\n",
    "operator = ' minus '\n",
    "\n",
    "#we can also use an f string\n",
    "print(f\"{a} {operator}  {b}  {equal}  {mySum}\")\n",
    "print(str(a) + operator + b + equal +str(mySum))\n",
    "print(str(a) + operator + b + equal + str(mySum))"
   ]
  },
  {
   "cell_type": "code",
   "execution_count": 23,
   "id": "2f9d3867",
   "metadata": {},
   "outputs": [
    {
     "name": "stdout",
     "output_type": "stream",
     "text": [
      "True\n"
     ]
    }
   ],
   "source": [
    "# 1.4 Booleans / Logical Comparisons\n",
    "\n",
    "# This cell should print True if an animal is a cat\n",
    "\n",
    "animal = 'cat'\n",
    "isCat = (animal == 'cat')\n",
    "\n",
    "\n",
    "\n",
    "print(isCat)"
   ]
  },
  {
   "cell_type": "code",
   "execution_count": 30,
   "id": "773c70b8",
   "metadata": {},
   "outputs": [
    {
     "name": "stdout",
     "output_type": "stream",
     "text": [
      "True\n"
     ]
    }
   ],
   "source": [
    "# 1.5 Booleans / Logical Comparisons\n",
    "\n",
    "# This cell should print True if an animal is a cat and\n",
    "# the cat is grumpy\n",
    "\n",
    "animal = 'cat'\n",
    "adjective = 'grumpy'\n",
    "isCat = (animal == 'cat')\n",
    "isGrumpy = (adjective == 'grumpy')\n",
    "\n",
    "\n",
    "print(isCat & isGrumpy)"
   ]
  },
  {
   "cell_type": "code",
   "execution_count": 31,
   "id": "9ef3c78f",
   "metadata": {},
   "outputs": [
    {
     "name": "stdout",
     "output_type": "stream",
     "text": [
      "True\n"
     ]
    }
   ],
   "source": [
    "# 1.6 Booleans / Logical Comparisons\n",
    "\n",
    "# A customer is looking a car with the following specifications:\n",
    "# - car must be new (odometer must be equal to zero miles)\n",
    "# - car can't be yellow or orange\n",
    "# - car needs to have at least mpg 28\n",
    "# - car needs to have at least four seats\n",
    "# This cell should return true if all of the previous conditions\n",
    "# are simultaneously true\n",
    "\n",
    "odometer = '0m'\n",
    "color = 'red'\n",
    "mpg = 28\n",
    "seats = 6\n",
    "\n",
    "isNew = (odometer == \"0m\")\n",
    "notYellowOrOrange = (color != 'yellow') & (color != \"orange\")\n",
    "mpgOver28 = (mpg >= 28)\n",
    "fourSeats = (seats >= 4)\n",
    "\n",
    "conditions = isNew & notYellowOrOrange & mpgOver28 & fourSeats\n",
    "print(conditions)"
   ]
  },
  {
   "cell_type": "code",
   "execution_count": null,
   "id": "f85775a6",
   "metadata": {},
   "outputs": [
    {
     "data": {
      "text/plain": [
       "4"
      ]
     },
     "execution_count": 32,
     "metadata": {},
     "output_type": "execute_result"
    }
   ],
   "source": [
    "# 1.7 Packages\n",
    "\n",
    "# This cell should find the greatest common divisor\n",
    "# of two integers\n",
    "# Note: You may have to do some research about the math package\n",
    "# on Python\n",
    "\n",
    "import math\n",
    "\n",
    "a = 12\n",
    "b = 8\n",
    "\n",
    "#gcd not lcd\n",
    "math.gcd(a, b)"
   ]
  },
  {
   "cell_type": "code",
   "execution_count": null,
   "id": "cd67bd6e",
   "metadata": {},
   "outputs": [
    {
     "data": {
      "text/plain": [
       "50.26548245743669"
      ]
     },
     "execution_count": 35,
     "metadata": {},
     "output_type": "execute_result"
    }
   ],
   "source": [
    "# 1.8 Packages\n",
    "\n",
    "# This cell should compute the area of a circle given a\n",
    "# radius r\n",
    "import math\n",
    "\n",
    "r = 4\n",
    "area = math.pi * (r ** 2)\n",
    "area\n",
    "\n",
    "#or better use a function\n",
    "\n",
    "def area_circ(r):\n",
    "    area = math.pi * (r ** 2)\n",
    "    return area"
   ]
  },
  {
   "cell_type": "code",
   "execution_count": 38,
   "id": "10049c4c",
   "metadata": {},
   "outputs": [
    {
     "data": {
      "text/plain": [
       "100.4"
      ]
     },
     "execution_count": 38,
     "metadata": {},
     "output_type": "execute_result"
    }
   ],
   "source": [
    "# 1.9 Functions\n",
    "\n",
    "# Define a function that takes temperature in degree Celsius and\n",
    "# returns the value in the Fahrenheit scale\n",
    "\n",
    "def toF(c):\n",
    "    return 32 + (c * (9/5))\n",
    "\n",
    "# Testing (output should be approx 100F)\n",
    "\n",
    "toF(38)"
   ]
  },
  {
   "cell_type": "code",
   "execution_count": 39,
   "id": "a11240bf",
   "metadata": {},
   "outputs": [
    {
     "data": {
      "text/plain": [
       "9.3"
      ]
     },
     "execution_count": 39,
     "metadata": {},
     "output_type": "execute_result"
    }
   ],
   "source": [
    "# 1.10 Functions\n",
    "\n",
    "# Define a function that takes for inputs\n",
    "# a certain amount of dollars and the exchange rate with\n",
    "# respect to the Euro and return the value in terms of Euros.\n",
    "\n",
    "def toEuros(d, xRate):\n",
    "    return(d * xRate)\n",
    "\n",
    "# Testing (output should be 9.3 Euros)\n",
    "\n",
    "toEuros(10, 0.93)"
   ]
  },
  {
   "cell_type": "code",
   "execution_count": 41,
   "id": "e77c255c",
   "metadata": {},
   "outputs": [
    {
     "data": {
      "text/plain": [
       "100"
      ]
     },
     "execution_count": 41,
     "metadata": {},
     "output_type": "execute_result"
    }
   ],
   "source": [
    "# 1.11 Functions\n",
    "\n",
    "# The following function should compute the value of\n",
    "# a linear equation given a slope, and intercept and\n",
    "# an x value\n",
    "\n",
    "def linearEquation(b, m, x):\n",
    "    y = b + (m * x)\n",
    "    return (y)\n",
    "\n",
    "# Testing (output should be 100)\n",
    "\n",
    "b = 10 # Intercept\n",
    "m = 2 # Slope\n",
    "x = 45 # x-value\n",
    "linearEquation(b, m, x)"
   ]
  },
  {
   "cell_type": "code",
   "execution_count": 47,
   "id": "f8311486",
   "metadata": {},
   "outputs": [
    {
     "data": {
      "text/plain": [
       "'Hi! Tom Brady, Welcome Back!'"
      ]
     },
     "execution_count": 47,
     "metadata": {},
     "output_type": "execute_result"
    }
   ],
   "source": [
    "# 1.12 Functions\n",
    "\n",
    "# The following function should take the first name and last\n",
    "# name of an individual and print the following\n",
    "# greeting message:\n",
    "# 'Hi! _fName_ _lName_. Welcome Back!'\n",
    "\n",
    "def greetings(firstName, lastName):\n",
    "   fullName = firstName + \" \" + lastName\n",
    "   return('Hi! '+ fullName + \", Welcome Back!\")\n",
    "\n",
    "# Testing (output should be 'Hi!, Tom Brady, Welcome Back!')\n",
    "          \n",
    "firstName = 'Tom'\n",
    "lastName = 'Brady'\n",
    "          \n",
    "greetings(firstName, lastName)"
   ]
  },
  {
   "cell_type": "code",
   "execution_count": 50,
   "id": "fa68d957",
   "metadata": {},
   "outputs": [
    {
     "name": "stdout",
     "output_type": "stream",
     "text": [
      "is too hot in here!\n"
     ]
    }
   ],
   "source": [
    "# 1.13 Conditionals\n",
    "\n",
    "# Check the temperature\n",
    "# if the temperature is greater than 75F then print a\n",
    "# message that reads 'is too hot in here!'\n",
    "\n",
    "t = 90\n",
    "msg = 'is too hot in here!'\n",
    "\n",
    "if (t > 75 ):\n",
    "    print(msg)"
   ]
  },
  {
   "cell_type": "code",
   "execution_count": 54,
   "id": "022a90a9",
   "metadata": {},
   "outputs": [
    {
     "name": "stdout",
     "output_type": "stream",
     "text": [
      "is too hot in here!\n"
     ]
    }
   ],
   "source": [
    "# 1.14 Conditionals\n",
    "\n",
    "# Check the temperature\n",
    "# if the temperature is greater than 75F then print a\n",
    "# message that reads 'is too hot in here!'\n",
    "\n",
    "# if the temperature is below 25F then print a\n",
    "# message that reads 'is too cold in here!'\n",
    "\n",
    "# otherwise, print:\n",
    "# 'is OK in here'\n",
    "\n",
    "t = 90\n",
    "\n",
    "if (t > 75):\n",
    "    print('is too hot in here!')\n",
    "elif (t < 25):\n",
    "    print('is too cold in here!')\n",
    "else:\n",
    "    print('is OK in here')"
   ]
  },
  {
   "cell_type": "code",
   "execution_count": 55,
   "id": "d28b4ffd",
   "metadata": {},
   "outputs": [
    {
     "name": "stdout",
     "output_type": "stream",
     "text": [
      "Oops!, it won't fit...\n",
      "W\n"
     ]
    }
   ],
   "source": [
    "# 1.15 Conditionals\n",
    "\n",
    "# Check that an item will fit in a box\n",
    "# with the following dimensions:\n",
    "\n",
    "# h : 20 in\n",
    "# l : 30 in\n",
    "# w : 25 in\n",
    "\n",
    "# If it fits, print a message that reads 'all good'\n",
    "# if it doesn't, print 'Oops!, it won't fit'\n",
    "# and then print the name of the dimension(s) for which\n",
    "# the item won't fit\n",
    "\n",
    "h = 20\n",
    "l = 30\n",
    "w = 25\n",
    "itemH = 15\n",
    "itemL = 25\n",
    "itemW = 30\n",
    "\n",
    "fitH = itemH <= h\n",
    "fitL = itemL <= l\n",
    "fitW = itemW <= w\n",
    "fit = fitH & fitL & fitW\n",
    "\n",
    "if fit:\n",
    "    print('all good')\n",
    "else:\n",
    "    print('Oops!, it won\\'t fit...')\n",
    "    if not(fitH): print('H')\n",
    "    if not(fitL): print('L')\n",
    "    if not(fitW): print('W')"
   ]
  },
  {
   "cell_type": "code",
   "execution_count": 56,
   "id": "7628f898",
   "metadata": {},
   "outputs": [
    {
     "data": {
      "text/plain": [
       "'apple'"
      ]
     },
     "execution_count": 56,
     "metadata": {},
     "output_type": "execute_result"
    }
   ],
   "source": [
    "# 1.16 Lists\n",
    "\n",
    "# Extract the third element of\n",
    "# the list\n",
    "\n",
    "fruits = ['banana', 2, 'apple', 4, 'coconut', 1]\n",
    "fruits[2]"
   ]
  },
  {
   "cell_type": "code",
   "execution_count": 58,
   "id": "a0c2df36",
   "metadata": {},
   "outputs": [
    {
     "data": {
      "text/plain": [
       "'Arushi Sten'"
      ]
     },
     "execution_count": 58,
     "metadata": {},
     "output_type": "execute_result"
    }
   ],
   "source": [
    "# 1.17 Lists\n",
    "\n",
    "# Define a function that prints the first and last name\n",
    "# of individuals given an integer value:\n",
    "\n",
    "fNames = ['Ilhami', 'Arushi', 'Francesco', 'Kelebek', 'Jose']\n",
    "lNames = ('Chiamaka', 'Sten', 'Jerneja', 'Lise', 'Roch')\n",
    "\n",
    "def fullName(i):\n",
    "    fName = fNames[i-1]\n",
    "    lName = lNames[i-1]\n",
    "    fullName = fName + ' ' + lName\n",
    "    return(fullName)\n",
    "\n",
    "# Testing (should return 'Arushi Sten')\n",
    "\n",
    "fullName(2)"
   ]
  },
  {
   "cell_type": "code",
   "execution_count": 61,
   "id": "58f5c425",
   "metadata": {},
   "outputs": [],
   "source": [
    "# 1.18 Lists\n",
    "\n",
    "# This cell should check if the element 'banana' is in\n",
    "# a list of fruits\n",
    "\n",
    "fruits = ['apple', 'blueberry', 'coconut', 'duran', 'eggplant']\n",
    "\n",
    "# Yes! eggplants are fruits!\n",
    "\n",
    "if 'bananna' in fruits:\n",
    "    print('Yes')"
   ]
  },
  {
   "cell_type": "code",
   "execution_count": 62,
   "id": "6d9c3811",
   "metadata": {},
   "outputs": [
    {
     "name": "stdout",
     "output_type": "stream",
     "text": [
      "apple\n",
      "blueberry\n",
      "coconut\n",
      "duran\n",
      "eggplant\n"
     ]
    }
   ],
   "source": [
    "# 1.19 Loops\n",
    "\n",
    "# This cell should print all the elements in a list\n",
    "fruits = ['apple', 'blueberry', 'coconut', 'duran', 'eggplant']\n",
    "          \n",
    "for f in fruits:\n",
    "    print(f)"
   ]
  },
  {
   "cell_type": "code",
   "execution_count": 74,
   "id": "a10fd34e",
   "metadata": {},
   "outputs": [
    {
     "name": "stdout",
     "output_type": "stream",
     "text": [
      "1 . apple\n",
      "2 . blueberry\n",
      "3 . coconut\n",
      "4 . duran\n",
      "5 . eggplant\n",
      "0 . apple\n",
      "1 . blueberry\n",
      "2 . coconut\n",
      "3 . duran\n",
      "4 . eggplant\n"
     ]
    }
   ],
   "source": [
    "# 1.20 Loops\n",
    "\n",
    "# This cell should print all the elements in a list, alongside\n",
    "# the order they occupy on the list:\n",
    "\n",
    "fruits = ['apple', 'blueberry', 'coconut', 'duran', 'eggplant']\n",
    "\n",
    "for order, fruit in enumerate(fruits,1):\n",
    "    print(order, '.', fruit)\n",
    "\n",
    "#or \n",
    "\n",
    "for f in range(len(fruits)):\n",
    "    print (f, '.', fruits[f])"
   ]
  },
  {
   "cell_type": "code",
   "execution_count": null,
   "id": "c90543d7",
   "metadata": {},
   "outputs": [],
   "source": [
    "### PART 2: WRITE YOUR OWN CODE\n",
    "\n",
    "# Follow the instructs below to write your own functoins/code to achieve an objective"
   ]
  },
  {
   "cell_type": "code",
   "execution_count": 85,
   "id": "76fe41af",
   "metadata": {},
   "outputs": [
    {
     "data": {
      "text/plain": [
       "'B'"
      ]
     },
     "execution_count": 85,
     "metadata": {},
     "output_type": "execute_result"
    }
   ],
   "source": [
    "# 2.1\n",
    "# Write a function that takes four inputs. If any of the inputs is not an integer or\n",
    "# a floating number return an error message. If all the inputs are integers or floating\n",
    "# numbers, verify that they are between 0 and 100. If so compute the average of the\n",
    "# four numbers; otherwise, return an error message. Using the average return a letter\n",
    "# grade based on the following table:\n",
    "\n",
    "# A: X >= 90\n",
    "# B: 90 > X >= 80\n",
    "# C: 80 > X >= 70\n",
    "# D: 70 > X >= 60\n",
    "# F: X < 60\n",
    "\n",
    "def assign_grade(*grades):\n",
    "    total = 0\n",
    "\n",
    "    for i in grades:\n",
    "        if type(i) != int and type(i) != float:\n",
    "            return \"error message, please inter in ints or floats\"\n",
    "        elif i > 0 or i < 100:\n",
    "            total += i\n",
    "\n",
    "    avg = total / len(grades)\n",
    "    \n",
    "    if avg >= 90:\n",
    "        return 'A'\n",
    "    elif 90 > avg >= 80:\n",
    "        return 'B'\n",
    "    elif 80 > avg >= 70:\n",
    "        return 'C'\n",
    "    elif 70 > avg >= 60:\n",
    "        return 'D'\n",
    "    else:\n",
    "        return 'F'\n",
    "\n",
    "assign_grade(90, 85, 78, 92)\n",
    "            \n",
    "        \n"
   ]
  },
  {
   "cell_type": "code",
   "execution_count": 93,
   "id": "67503344",
   "metadata": {},
   "outputs": [
    {
     "data": {
      "text/plain": [
       "[False, True, True, False, True, False, True]"
      ]
     },
     "execution_count": 93,
     "metadata": {},
     "output_type": "execute_result"
    }
   ],
   "source": [
    "# 2.2\n",
    "# Write a function that takes a list of numbers and returns a list of booleans. If\n",
    "# the number in the list of numbers is greater or equal to 18, the boolean in that position\n",
    "# should be equal to true; otherwise set it equal to false.\n",
    "\n",
    "def check_nums(num_list):\n",
    "    for index, i in enumerate(num_list):\n",
    "        if i >= 18:\n",
    "            num_list[index] = True\n",
    "        else:\n",
    "            num_list[index] = False\n",
    "    \n",
    "    return num_list\n",
    "\n",
    "check_nums([12, 45, 18, 7, 20, 3, 19])"
   ]
  },
  {
   "cell_type": "code",
   "execution_count": 96,
   "id": "fb5bfaad",
   "metadata": {},
   "outputs": [
    {
     "data": {
      "text/plain": [
       "2"
      ]
     },
     "execution_count": 96,
     "metadata": {},
     "output_type": "execute_result"
    }
   ],
   "source": [
    "#2.3\n",
    "# Write a function that checks if a word is in a list. If the word is in the list, then\n",
    "# return the position of the word in the list. If the word is not in the list then print an\n",
    "# error message.\n",
    "\n",
    "def check_word(word, word_list):\n",
    "    if word in word_list:\n",
    "        return word_list.index(word)\n",
    "    else:\n",
    "        return \"word not in list\"\n",
    "    \n",
    "check_word('apple', ['banana', 'peach', 'apple', 'coconut'])"
   ]
  },
  {
   "cell_type": "code",
   "execution_count": null,
   "id": "9f54cffd",
   "metadata": {},
   "outputs": [],
   "source": [
    "# if i == 1:\n",
    "        #     return \"It is certain\"\n",
    "        # elif i == 2:\n",
    "        #     return \"Ask again later\"\n",
    "        # elif i == 3:\n",
    "        #     return \"Don't count on it\"\n",
    "        # elif i == 4:\n",
    "        #     return \"Yes, definitely\"\n",
    "        # elif i == 5:\n",
    "        #     return \"My sources say no\"\n",
    "        # elif i == 6:\n",
    "        #     return \"Outlook not so good\"\n",
    "        # elif i == 7:\n",
    "        #     return \"Yes\"\n",
    "        # elif i == 8:\n",
    "        #     return \"Very doubtful\"\n",
    "        # elif i == 9:\n",
    "        #     return \"Signs point to yes\"\n",
    "        # else:\n",
    "        #     return \"Reply hazy, try again\""
   ]
  },
  {
   "cell_type": "code",
   "execution_count": 151,
   "id": "cf81f0c8",
   "metadata": {},
   "outputs": [
    {
     "data": {
      "text/plain": [
       "'maybe'"
      ]
     },
     "execution_count": 151,
     "metadata": {},
     "output_type": "execute_result"
    }
   ],
   "source": [
    "#2.4\n",
    "# A magic-8 ball is a toy that you can use to answer 'yes-no' questions. The\n",
    "# answers of the ball are selected randomly from a list of predetermined answers.\n",
    "# Write a function that simulates a magic-8. To answer this question you will need to\n",
    "# import the package random, which include functions to generate random numbers.\n",
    "\n",
    "import random\n",
    "\n",
    "def magic_8_ball():\n",
    "    responses = ['yes', 'no', 'maybe', 'idk', 'tbh...', 'go away', 'ask me tmrw', 'probably']\n",
    "\n",
    "    ans = random.randint(0, 7)\n",
    "\n",
    "    return (responses[ans])\n",
    "        \n",
    "\n",
    "magic_8_ball()\n"
   ]
  }
 ],
 "metadata": {
  "kernelspec": {
   "display_name": "Python 3",
   "language": "python",
   "name": "python3"
  },
  "language_info": {
   "codemirror_mode": {
    "name": "ipython",
    "version": 3
   },
   "file_extension": ".py",
   "mimetype": "text/x-python",
   "name": "python",
   "nbconvert_exporter": "python",
   "pygments_lexer": "ipython3",
   "version": "3.11.11"
  }
 },
 "nbformat": 4,
 "nbformat_minor": 5
}
