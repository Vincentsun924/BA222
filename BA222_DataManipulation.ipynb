{
 "cells": [
  {
   "cell_type": "code",
   "execution_count": null,
   "id": "d8d87ca7",
   "metadata": {},
   "outputs": [],
   "source": [
    "# Data Manipulation (Intro to Pandas)\n",
    "# BA 222 \n",
    "# Prof Munshi"
   ]
  },
  {
   "cell_type": "code",
   "execution_count": null,
   "id": "b6140141",
   "metadata": {},
   "outputs": [],
   "source": [
    "# Learning objectives for this lecture:\n",
    "#1. Download data into Python and open it\n",
    "#2. Become used to inspecting the data to see what types of variable and how it is organized\n",
    "#3. Practice filtering and sorting the data\n"
   ]
  },
  {
   "cell_type": "code",
   "execution_count": null,
   "id": "0f681c77",
   "metadata": {},
   "outputs": [],
   "source": [
    "# Big goal:\n",
    "\n",
    "# Download a data set into Python and look at it!"
   ]
  },
  {
   "cell_type": "code",
   "execution_count": null,
   "id": "083c2329",
   "metadata": {},
   "outputs": [],
   "source": [
    "# Pandas is a state of the art package for Python that is fantastic for data science \n",
    "# Pandas is built on top of of another package called NumPy, so you may see this in some places"
   ]
  },
  {
   "cell_type": "code",
   "execution_count": 3,
   "id": "9a231dd6",
   "metadata": {},
   "outputs": [],
   "source": [
    "# Standard load in is to call pandas \"pd\" \n",
    "import pandas as pd"
   ]
  },
  {
   "cell_type": "code",
   "execution_count": null,
   "id": "016c14e7",
   "metadata": {},
   "outputs": [],
   "source": [
    "# TWO different ways you can get data into Python"
   ]
  },
  {
   "cell_type": "code",
   "execution_count": 4,
   "id": "22f5aed9",
   "metadata": {},
   "outputs": [],
   "source": [
    "# Step 1: getting data into Python with pandas\n",
    "\n",
    "## We can read a csv using the read_csv function\n",
    "flights = pd.read_csv('/Users/viditm/Dropbox (BOSTON UNIVERSITY)/BA222_Munshi_2024_Spring/Data/flights.csv')"
   ]
  },
  {
   "cell_type": "code",
   "execution_count": null,
   "id": "cfea123d",
   "metadata": {},
   "outputs": [],
   "source": [
    "# This will work IF the csv file is in the same folder as the notebook you are using\n",
    "\n",
    "flights = pd.read_csv('flights.csv')"
   ]
  },
  {
   "cell_type": "code",
   "execution_count": null,
   "id": "772ea5d3",
   "metadata": {},
   "outputs": [],
   "source": [
    "# Making sure you understand what is happening in the 2 cells above and can \n",
    "# execute this on your computer - CRITICAL FOR EXAMS! \n",
    "# Having a BA222 folder to keep everything in the same place is super helpful!\n",
    "# ASK QUESTIONS!"
   ]
  },
  {
   "cell_type": "code",
   "execution_count": null,
   "id": "390b6156",
   "metadata": {},
   "outputs": [],
   "source": [
    "# Pandas uses a main object called a Pandas DataFrame\n",
    "type(flights)"
   ]
  },
  {
   "cell_type": "code",
   "execution_count": null,
   "id": "0aff8050",
   "metadata": {},
   "outputs": [],
   "source": [
    "flights"
   ]
  },
  {
   "cell_type": "code",
   "execution_count": null,
   "id": "a286a0da",
   "metadata": {},
   "outputs": [],
   "source": [
    "# Each of these rows above is a \"UNIT OF OBSERVATION\" - in this case: a flight"
   ]
  },
  {
   "cell_type": "code",
   "execution_count": null,
   "id": "3385d20a",
   "metadata": {},
   "outputs": [],
   "source": [
    "# The head method shows you what the top of your data look like \n",
    "flights.head()\n",
    "# 20 for 20 rows\n",
    "# blank for default (5 rows)"
   ]
  },
  {
   "cell_type": "code",
   "execution_count": null,
   "id": "3e1e0413",
   "metadata": {
    "scrolled": true
   },
   "outputs": [],
   "source": [
    "# The shape attribute tells us the rows and columns\n",
    "flights.shape"
   ]
  },
  {
   "cell_type": "code",
   "execution_count": null,
   "id": "b1d3a542",
   "metadata": {},
   "outputs": [],
   "source": [
    "flights.info()"
   ]
  },
  {
   "cell_type": "code",
   "execution_count": null,
   "id": "74f53332",
   "metadata": {},
   "outputs": [],
   "source": [
    "# The len function works on Dataframes\n",
    "len(flights)"
   ]
  },
  {
   "cell_type": "code",
   "execution_count": null,
   "id": "37a36c93",
   "metadata": {},
   "outputs": [],
   "source": [
    "# The columns attribute lists column names \n",
    "flights.columns"
   ]
  },
  {
   "cell_type": "code",
   "execution_count": null,
   "id": "6e3b1f8c",
   "metadata": {},
   "outputs": [],
   "source": [
    "# We can add a column by defining it like this:\n",
    "flights[\"new_col\"]=0\n",
    "flights.columns"
   ]
  },
  {
   "cell_type": "code",
   "execution_count": null,
   "id": "80a92a79",
   "metadata": {},
   "outputs": [],
   "source": [
    "# You can access a column by name\n",
    "flights[\"DAY\"]\n",
    "# Note that it prints row numbers on the left. The values are on the right\n",
    "# This is like a single column in Excel"
   ]
  },
  {
   "cell_type": "code",
   "execution_count": null,
   "id": "f11b988b",
   "metadata": {},
   "outputs": [],
   "source": [
    "# You can also access a single row using the period operator:\n",
    "flights.DAY\n",
    "\n",
    "# This one won't work if there is a space in the column name"
   ]
  },
  {
   "cell_type": "code",
   "execution_count": null,
   "id": "d8d16c7f",
   "metadata": {},
   "outputs": [],
   "source": [
    "# We can access two variables at the same time like this:\n",
    "# Notice the double-brackets when you want more than 1 variable, this will take time to get used to\n",
    "flights[[\"DAY\",\"AIRLINE\"]]"
   ]
  },
  {
   "cell_type": "code",
   "execution_count": null,
   "id": "cb23af2f",
   "metadata": {},
   "outputs": [],
   "source": [
    "# The pandas data frame is made up of \"series\" that are like what we call \"columns\" in Excel\n",
    "\n",
    "type(flights[\"DAY\"])"
   ]
  },
  {
   "cell_type": "code",
   "execution_count": null,
   "id": "85479ee2",
   "metadata": {
    "scrolled": true
   },
   "outputs": [],
   "source": [
    "# Pandas allows you to select on rows based on characteristics \n",
    "\n",
    "# First we can get get all flights from a single day\n",
    "flights[flights[\"DAY\"] == 16]\n",
    "#    The syntax is:\n",
    "#    DataFrame[Condition]\n",
    "#    Where the condition can be something like DataFrame[\"ColumnName\"] == Value"
   ]
  },
  {
   "cell_type": "code",
   "execution_count": null,
   "id": "e307f16d",
   "metadata": {},
   "outputs": [],
   "source": [
    "# Let's filter based on 2 conditions:\n",
    "\n",
    "flights[(flights[\"DAY\"]==16) & (flights[\"AIRLINE\"]==\"AA\")]"
   ]
  },
  {
   "cell_type": "code",
   "execution_count": null,
   "id": "926937b1",
   "metadata": {},
   "outputs": [],
   "source": [
    "flights16 = flights[flights[\"DAY\"] == 16]\n",
    "flights16"
   ]
  },
  {
   "cell_type": "code",
   "execution_count": null,
   "id": "39a4aaab",
   "metadata": {},
   "outputs": [],
   "source": [
    "# If you want to check which values AIRLINE takes on\n",
    "flights[\"AIRLINE\"].unique()"
   ]
  },
  {
   "cell_type": "code",
   "execution_count": null,
   "id": "ee0904a3",
   "metadata": {},
   "outputs": [],
   "source": [
    "# Looking for the value of a specific observation and variable\n",
    "\n",
    "# flights[\"ORIGIN_AIRPORT\"][5]\n",
    "\n",
    "# does the same thing as:\n",
    "\n",
    "# flights.ORIGIN_AIRPORT[5]"
   ]
  },
  {
   "cell_type": "code",
   "execution_count": null,
   "id": "342f6c31",
   "metadata": {},
   "outputs": [],
   "source": [
    "# Using .loc to find a specific numeric row/observation"
   ]
  },
  {
   "cell_type": "code",
   "execution_count": null,
   "id": "2a2e1bf3",
   "metadata": {},
   "outputs": [],
   "source": [
    "flights.loc[0]"
   ]
  },
  {
   "cell_type": "code",
   "execution_count": null,
   "id": "538b061c",
   "metadata": {},
   "outputs": [],
   "source": [
    "flights.loc[0:5]"
   ]
  },
  {
   "cell_type": "code",
   "execution_count": null,
   "id": "9624e002",
   "metadata": {},
   "outputs": [],
   "source": [
    "flights.loc[0:5,\"FLIGHT_NUMBER\"]"
   ]
  },
  {
   "cell_type": "code",
   "execution_count": null,
   "id": "8fd08fb1",
   "metadata": {},
   "outputs": [],
   "source": [
    "flights.loc[0:5,[\"FLIGHT_NUMBER\",\"ORIGIN_AIRPORT\"]]"
   ]
  },
  {
   "cell_type": "code",
   "execution_count": null,
   "id": "e4490da4",
   "metadata": {},
   "outputs": [],
   "source": [
    "# SORTING"
   ]
  },
  {
   "cell_type": "code",
   "execution_count": null,
   "id": "0fc69c68",
   "metadata": {},
   "outputs": [],
   "source": [
    "# .sort_values method sorts by a specified variabl\n",
    "# add \"ascending = True or False to specify direction\"\n",
    "flights.sort_values(by = \"FLIGHT_NUMBER\")\n",
    "\n",
    "# You can add more variables to sort by if you want, the syntax is\n",
    "# name.sort_values(by = ['variable1', 'variable2'])"
   ]
  },
  {
   "cell_type": "code",
   "execution_count": null,
   "id": "14152069",
   "metadata": {},
   "outputs": [],
   "source": [
    "### Let's pause here for questions"
   ]
  },
  {
   "cell_type": "code",
   "execution_count": null,
   "id": "1fda98a6",
   "metadata": {},
   "outputs": [],
   "source": [
    "### EXERCISE ###\n",
    "\n",
    "#1. Write a function to count how many of the observations\n",
    "# in the dataset took off from \"LAX\"\n",
    "# HINT: It may be useful (but not necessary) to use a \"tracker\" variable\n",
    "# A tracker is a variable that you create that, for example, starts at 0, and \n",
    "# counts every time something happens so that you know how many times it happened\n"
   ]
  },
  {
   "cell_type": "code",
   "execution_count": null,
   "id": "9b4ea23d",
   "metadata": {},
   "outputs": [],
   "source": [
    "### Big takeaways so far:\n",
    "\n",
    "## Pandas is a great tool for showing and manipulating data frames in Python\n",
    "## It has a reasonably simple syntax for selecting subsets of your data\n",
    "## It is fast, working with hundreds of thousands of rows with no problem and not crashing\n"
   ]
  }
 ],
 "metadata": {
  "kernelspec": {
   "display_name": "Python 3 (ipykernel)",
   "language": "python",
   "name": "python3"
  },
  "language_info": {
   "codemirror_mode": {
    "name": "ipython",
    "version": 3
   },
   "file_extension": ".py",
   "mimetype": "text/x-python",
   "name": "python",
   "nbconvert_exporter": "python",
   "pygments_lexer": "ipython3",
   "version": "3.12.7"
  }
 },
 "nbformat": 4,
 "nbformat_minor": 5
}
