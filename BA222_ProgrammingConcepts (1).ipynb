{
 "cells": [
  {
   "cell_type": "code",
   "execution_count": 188,
   "id": "8ea69fc5",
   "metadata": {},
   "outputs": [],
   "source": [
    "#### Lecture: Programming Concepts\n",
    "\n",
    "# Packages, Conditionals, and Loops\n",
    "# BA 222 \n",
    "# Prof Munshi"
   ]
  },
  {
   "cell_type": "code",
   "execution_count": 189,
   "id": "11d55e20",
   "metadata": {},
   "outputs": [],
   "source": [
    "# NEXT: Python has a BUNCH of built-in function that are part of \"Packages\"\n"
   ]
  },
  {
   "cell_type": "code",
   "execution_count": 190,
   "id": "40812fba",
   "metadata": {},
   "outputs": [
    {
     "data": {
      "text/plain": [
       "31"
      ]
     },
     "execution_count": 190,
     "metadata": {},
     "output_type": "execute_result"
    }
   ],
   "source": [
    "# Loading a PACKAGE/LIBRARY\n",
    "# A package or library is a  bunch of python files that contain pre-written functions, or objects of different types \n",
    "# (Python lets you define new types of objects)\n",
    "# One directory is \"numpy\" which works with multi-dimensional arrays and matrices, and we will be using it heavily \n",
    "\n",
    "# You can load a package using \"import\"\n",
    "# This imports and then allows you to use the methods of the package, an additional set of resources to code\n",
    "import random \n",
    "random.randint(0,100)\n",
    "# package.function()"
   ]
  },
  {
   "cell_type": "code",
   "execution_count": 191,
   "id": "9cd59734",
   "metadata": {},
   "outputs": [
    {
     "data": {
      "text/plain": [
       "87"
      ]
     },
     "execution_count": 191,
     "metadata": {},
     "output_type": "execute_result"
    }
   ],
   "source": [
    "# You can also assign a short name to your package with the syntax:\n",
    "# import longpackagename as shortname \n",
    "import random as r\n",
    "r.randint(0,100)\n",
    "\n",
    "#shortname.function()"
   ]
  },
  {
   "cell_type": "code",
   "execution_count": 192,
   "id": "e9895bc3",
   "metadata": {},
   "outputs": [
    {
     "data": {
      "text/plain": [
       "14"
      ]
     },
     "execution_count": 192,
     "metadata": {},
     "output_type": "execute_result"
    }
   ],
   "source": [
    "# Importing a specific function from a package\n",
    "\n",
    "from random import randint\n",
    "randint(0,100)\n",
    "# From package import *"
   ]
  },
  {
   "cell_type": "code",
   "execution_count": 193,
   "id": "cbbc42bd",
   "metadata": {},
   "outputs": [
    {
     "data": {
      "text/plain": [
       "15.0"
      ]
     },
     "execution_count": 193,
     "metadata": {},
     "output_type": "execute_result"
    }
   ],
   "source": [
    "# math is a package that has some familiar methods\n",
    "\n",
    "import math\n",
    "math.sqrt(225)"
   ]
  },
  {
   "cell_type": "code",
   "execution_count": 194,
   "id": "be1b0e8b",
   "metadata": {},
   "outputs": [],
   "source": [
    "# PRACTICE TIME #\n",
    "\n",
    "# Let's write a function that for two values, a, b\n",
    "# computes the hypotenuse of a right triangle with side lengths a and b \n",
    "# WHO REMEMBERS THIS FORMULA??\n",
    "\n",
    "def hypotenuse(a, b):\n",
    "    return math.sqrt(a**2 + b**2)\n"
   ]
  },
  {
   "cell_type": "code",
   "execution_count": 195,
   "id": "a2eec86e",
   "metadata": {},
   "outputs": [
    {
     "name": "stdout",
     "output_type": "stream",
     "text": [
      "Help on module math:\n",
      "\n",
      "NAME\n",
      "    math\n",
      "\n",
      "DESCRIPTION\n",
      "    This module provides access to the mathematical functions\n",
      "    defined by the C standard.\n",
      "\n",
      "FUNCTIONS\n",
      "    acos(x, /)\n",
      "        Return the arc cosine (measured in radians) of x.\n",
      "        \n",
      "        The result is between 0 and pi.\n",
      "    \n",
      "    acosh(x, /)\n",
      "        Return the inverse hyperbolic cosine of x.\n",
      "    \n",
      "    asin(x, /)\n",
      "        Return the arc sine (measured in radians) of x.\n",
      "        \n",
      "        The result is between -pi/2 and pi/2.\n",
      "    \n",
      "    asinh(x, /)\n",
      "        Return the inverse hyperbolic sine of x.\n",
      "    \n",
      "    atan(x, /)\n",
      "        Return the arc tangent (measured in radians) of x.\n",
      "        \n",
      "        The result is between -pi/2 and pi/2.\n",
      "    \n",
      "    atan2(y, x, /)\n",
      "        Return the arc tangent (measured in radians) of y/x.\n",
      "        \n",
      "        Unlike atan(y/x), the signs of both x and y are considered.\n",
      "    \n",
      "    atanh(x, /)\n",
      "        Return the inverse hyperbolic tangent of x.\n",
      "    \n",
      "    cbrt(x, /)\n",
      "        Return the cube root of x.\n",
      "    \n",
      "    ceil(x, /)\n",
      "        Return the ceiling of x as an Integral.\n",
      "        \n",
      "        This is the smallest integer >= x.\n",
      "    \n",
      "    comb(n, k, /)\n",
      "        Number of ways to choose k items from n items without repetition and without order.\n",
      "        \n",
      "        Evaluates to n! / (k! * (n - k)!) when k <= n and evaluates\n",
      "        to zero when k > n.\n",
      "        \n",
      "        Also called the binomial coefficient because it is equivalent\n",
      "        to the coefficient of k-th term in polynomial expansion of the\n",
      "        expression (1 + x)**n.\n",
      "        \n",
      "        Raises TypeError if either of the arguments are not integers.\n",
      "        Raises ValueError if either of the arguments are negative.\n",
      "    \n",
      "    copysign(x, y, /)\n",
      "        Return a float with the magnitude (absolute value) of x but the sign of y.\n",
      "        \n",
      "        On platforms that support signed zeros, copysign(1.0, -0.0)\n",
      "        returns -1.0.\n",
      "    \n",
      "    cos(x, /)\n",
      "        Return the cosine of x (measured in radians).\n",
      "    \n",
      "    cosh(x, /)\n",
      "        Return the hyperbolic cosine of x.\n",
      "    \n",
      "    degrees(x, /)\n",
      "        Convert angle x from radians to degrees.\n",
      "    \n",
      "    dist(p, q, /)\n",
      "        Return the Euclidean distance between two points p and q.\n",
      "        \n",
      "        The points should be specified as sequences (or iterables) of\n",
      "        coordinates.  Both inputs must have the same dimension.\n",
      "        \n",
      "        Roughly equivalent to:\n",
      "            sqrt(sum((px - qx) ** 2.0 for px, qx in zip(p, q)))\n",
      "    \n",
      "    erf(x, /)\n",
      "        Error function at x.\n",
      "    \n",
      "    erfc(x, /)\n",
      "        Complementary error function at x.\n",
      "    \n",
      "    exp(x, /)\n",
      "        Return e raised to the power of x.\n",
      "    \n",
      "    exp2(x, /)\n",
      "        Return 2 raised to the power of x.\n",
      "    \n",
      "    expm1(x, /)\n",
      "        Return exp(x)-1.\n",
      "        \n",
      "        This function avoids the loss of precision involved in the direct evaluation of exp(x)-1 for small x.\n",
      "    \n",
      "    fabs(x, /)\n",
      "        Return the absolute value of the float x.\n",
      "    \n",
      "    factorial(n, /)\n",
      "        Find n!.\n",
      "        \n",
      "        Raise a ValueError if x is negative or non-integral.\n",
      "    \n",
      "    floor(x, /)\n",
      "        Return the floor of x as an Integral.\n",
      "        \n",
      "        This is the largest integer <= x.\n",
      "    \n",
      "    fmod(x, y, /)\n",
      "        Return fmod(x, y), according to platform C.\n",
      "        \n",
      "        x % y may differ.\n",
      "    \n",
      "    frexp(x, /)\n",
      "        Return the mantissa and exponent of x, as pair (m, e).\n",
      "        \n",
      "        m is a float and e is an int, such that x = m * 2.**e.\n",
      "        If x is 0, m and e are both 0.  Else 0.5 <= abs(m) < 1.0.\n",
      "    \n",
      "    fsum(seq, /)\n",
      "        Return an accurate floating point sum of values in the iterable seq.\n",
      "        \n",
      "        Assumes IEEE-754 floating point arithmetic.\n",
      "    \n",
      "    gamma(x, /)\n",
      "        Gamma function at x.\n",
      "    \n",
      "    gcd(*integers)\n",
      "        Greatest Common Divisor.\n",
      "    \n",
      "    hypot(...)\n",
      "        hypot(*coordinates) -> value\n",
      "        \n",
      "        Multidimensional Euclidean distance from the origin to a point.\n",
      "        \n",
      "        Roughly equivalent to:\n",
      "            sqrt(sum(x**2 for x in coordinates))\n",
      "        \n",
      "        For a two dimensional point (x, y), gives the hypotenuse\n",
      "        using the Pythagorean theorem:  sqrt(x*x + y*y).\n",
      "        \n",
      "        For example, the hypotenuse of a 3/4/5 right triangle is:\n",
      "        \n",
      "            >>> hypot(3.0, 4.0)\n",
      "            5.0\n",
      "    \n",
      "    isclose(a, b, *, rel_tol=1e-09, abs_tol=0.0)\n",
      "        Determine whether two floating point numbers are close in value.\n",
      "        \n",
      "          rel_tol\n",
      "            maximum difference for being considered \"close\", relative to the\n",
      "            magnitude of the input values\n",
      "          abs_tol\n",
      "            maximum difference for being considered \"close\", regardless of the\n",
      "            magnitude of the input values\n",
      "        \n",
      "        Return True if a is close in value to b, and False otherwise.\n",
      "        \n",
      "        For the values to be considered close, the difference between them\n",
      "        must be smaller than at least one of the tolerances.\n",
      "        \n",
      "        -inf, inf and NaN behave similarly to the IEEE 754 Standard.  That\n",
      "        is, NaN is not close to anything, even itself.  inf and -inf are\n",
      "        only close to themselves.\n",
      "    \n",
      "    isfinite(x, /)\n",
      "        Return True if x is neither an infinity nor a NaN, and False otherwise.\n",
      "    \n",
      "    isinf(x, /)\n",
      "        Return True if x is a positive or negative infinity, and False otherwise.\n",
      "    \n",
      "    isnan(x, /)\n",
      "        Return True if x is a NaN (not a number), and False otherwise.\n",
      "    \n",
      "    isqrt(n, /)\n",
      "        Return the integer part of the square root of the input.\n",
      "    \n",
      "    lcm(*integers)\n",
      "        Least Common Multiple.\n",
      "    \n",
      "    ldexp(x, i, /)\n",
      "        Return x * (2**i).\n",
      "        \n",
      "        This is essentially the inverse of frexp().\n",
      "    \n",
      "    lgamma(x, /)\n",
      "        Natural logarithm of absolute value of Gamma function at x.\n",
      "    \n",
      "    log(...)\n",
      "        log(x, [base=math.e])\n",
      "        Return the logarithm of x to the given base.\n",
      "        \n",
      "        If the base not specified, returns the natural logarithm (base e) of x.\n",
      "    \n",
      "    log10(x, /)\n",
      "        Return the base 10 logarithm of x.\n",
      "    \n",
      "    log1p(x, /)\n",
      "        Return the natural logarithm of 1+x (base e).\n",
      "        \n",
      "        The result is computed in a way which is accurate for x near zero.\n",
      "    \n",
      "    log2(x, /)\n",
      "        Return the base 2 logarithm of x.\n",
      "    \n",
      "    modf(x, /)\n",
      "        Return the fractional and integer parts of x.\n",
      "        \n",
      "        Both results carry the sign of x and are floats.\n",
      "    \n",
      "    nextafter(x, y, /)\n",
      "        Return the next floating-point value after x towards y.\n",
      "    \n",
      "    perm(n, k=None, /)\n",
      "        Number of ways to choose k items from n items without repetition and with order.\n",
      "        \n",
      "        Evaluates to n! / (n - k)! when k <= n and evaluates\n",
      "        to zero when k > n.\n",
      "        \n",
      "        If k is not specified or is None, then k defaults to n\n",
      "        and the function returns n!.\n",
      "        \n",
      "        Raises TypeError if either of the arguments are not integers.\n",
      "        Raises ValueError if either of the arguments are negative.\n",
      "    \n",
      "    pow(x, y, /)\n",
      "        Return x**y (x to the power of y).\n",
      "    \n",
      "    prod(iterable, /, *, start=1)\n",
      "        Calculate the product of all the elements in the input iterable.\n",
      "        \n",
      "        The default start value for the product is 1.\n",
      "        \n",
      "        When the iterable is empty, return the start value.  This function is\n",
      "        intended specifically for use with numeric values and may reject\n",
      "        non-numeric types.\n",
      "    \n",
      "    radians(x, /)\n",
      "        Convert angle x from degrees to radians.\n",
      "    \n",
      "    remainder(x, y, /)\n",
      "        Difference between x and the closest integer multiple of y.\n",
      "        \n",
      "        Return x - n*y where n*y is the closest integer multiple of y.\n",
      "        In the case where x is exactly halfway between two multiples of\n",
      "        y, the nearest even value of n is used. The result is always exact.\n",
      "    \n",
      "    sin(x, /)\n",
      "        Return the sine of x (measured in radians).\n",
      "    \n",
      "    sinh(x, /)\n",
      "        Return the hyperbolic sine of x.\n",
      "    \n",
      "    sqrt(x, /)\n",
      "        Return the square root of x.\n",
      "    \n",
      "    tan(x, /)\n",
      "        Return the tangent of x (measured in radians).\n",
      "    \n",
      "    tanh(x, /)\n",
      "        Return the hyperbolic tangent of x.\n",
      "    \n",
      "    trunc(x, /)\n",
      "        Truncates the Real x to the nearest Integral toward 0.\n",
      "        \n",
      "        Uses the __trunc__ magic method.\n",
      "    \n",
      "    ulp(x, /)\n",
      "        Return the value of the least significant bit of the float x.\n",
      "\n",
      "DATA\n",
      "    e = 2.718281828459045\n",
      "    inf = inf\n",
      "    nan = nan\n",
      "    pi = 3.141592653589793\n",
      "    tau = 6.283185307179586\n",
      "\n",
      "FILE\n",
      "    /opt/homebrew/Cellar/python@3.11/3.11.11/Frameworks/Python.framework/Versions/3.11/lib/python3.11/lib-dynload/math.cpython-311-darwin.so\n",
      "\n",
      "\n"
     ]
    }
   ],
   "source": [
    "# All the functions of the math package\n",
    "# can be found by typing help(math)\n",
    "# and clicking on the documentation link\n",
    "help(math)"
   ]
  },
  {
   "cell_type": "code",
   "execution_count": 196,
   "id": "41742769",
   "metadata": {},
   "outputs": [],
   "source": [
    "#### You will work with a number of packages through this course\n",
    "# The most important one we will use is called \"Pandas\". You can load this using:\n",
    "import pandas as pd\n",
    "# We will learn more about this one later"
   ]
  },
  {
   "cell_type": "code",
   "execution_count": 197,
   "id": "15474889",
   "metadata": {},
   "outputs": [],
   "source": [
    "### NEXT TOPIC: CONDITIONALS ###"
   ]
  },
  {
   "cell_type": "code",
   "execution_count": 198,
   "id": "73cd8ab3",
   "metadata": {},
   "outputs": [],
   "source": [
    "###### Also called \"Flow controls\" ######\n",
    "\n",
    "# Flow controls allows you to execute lines of codes\n",
    "# only when certain conditions are true.\n",
    "\n",
    "# These are essential to any good programmer.\n",
    "\n",
    "### Motivation\n",
    "\n",
    "## Example 1:\n",
    "# \n",
    "# Imagine that we have a very large dataset, over 30 variables\n",
    "# and we are tasked with creating visualizations for all of them.\n",
    "#\n",
    "# Some of the variables are numerical while others are categorical.\n",
    "# We want to produce a histogram if the variables are numerical and\n",
    "# a bar chart if the variables are categorical.\n",
    "#\n",
    "# We can proceed manually and create a list with the names of all\n",
    "# the categorical variables, the only take those variables and manually\n",
    "# make a graph for each one.  But we want to AUTOMATE!\n",
    "\n",
    "## Example 2:\n",
    "#\n",
    "# Consider that you have a python code that is executed daily\n",
    "# to produce tables for a report. This may be data from the stock\n",
    "# market, the price of oil,the value of trading currencies or interest rates.\n",
    "#\n",
    "# After the summaries are produced, your report includes some \n",
    "# comments at the end. These comments are in the line of \"all normal\", \n",
    "# \"variables x,y or z increased by some % relative to yesterday\". Generally,\n",
    "# they are repetitive and just a copy-paste from another day with similar\n",
    "# results. \n",
    "#\n",
    "# To produce a report like this we would have to produce all the tables, \n",
    "# and then manually inspect them and write the comments each day. As you can \n",
    "# imagine, this is a SOUL-CRUSHING task as it is very repetitive and you\n",
    "# have to go over, potentially, very long lists of data and hope not to \n",
    "# make a mistake. You can automatize the process of writting the report by\n",
    "# using flow controls. You can have a list of comments that are associated\n",
    "# to certain states of the variables and then let the computer figure out\n",
    "# what are the appropriate summarizations are for the day.\n",
    "#\n",
    "# "
   ]
  },
  {
   "cell_type": "code",
   "execution_count": 199,
   "id": "f1efe228",
   "metadata": {},
   "outputs": [
    {
     "name": "stdout",
     "output_type": "stream",
     "text": [
      "The condition is 5\n"
     ]
    }
   ],
   "source": [
    "## 1.1 THE IF STATEMENT\n",
    "# The must basic flow control is the \"if\" statement\n",
    "\n",
    "# It allow us to run some code when a CONDITION is TRUE\n",
    "\n",
    "y = 5\n",
    "\n",
    "if y == 3+2:\n",
    "    print(\"The condition is\", y)\n"
   ]
  },
  {
   "cell_type": "code",
   "execution_count": 200,
   "id": "dbc07e92",
   "metadata": {},
   "outputs": [
    {
     "name": "stdout",
     "output_type": "stream",
     "text": [
      "IT'S COLD OUTSIDE!\n"
     ]
    }
   ],
   "source": [
    "# 1.2 SYNTAX OF AN IF STATEMENT\n",
    "\n",
    "# if condition:\n",
    "#     code to be executed if condition is True\n",
    "\n",
    "## Things to remember:\n",
    "# (1) Start with the word \"if\" then leave a space\n",
    "# (2) The next part must be a BOOLEAN - testing whether something is true or not \n",
    "# (3) End the first line with a \":\" (colon) – just like when defining a function.\n",
    "# (4) Your code __MUST__ be indented (4 spaces)\n",
    "\n",
    "# EXAMPLE\n",
    "\n",
    "temperature = 32\n",
    "\n",
    "if temperature < 40:\n",
    "    print(\"IT'S COLD OUTSIDE!\")"
   ]
  },
  {
   "cell_type": "code",
   "execution_count": 201,
   "id": "2d06d7fe",
   "metadata": {},
   "outputs": [
    {
     "name": "stdout",
     "output_type": "stream",
     "text": [
      "Yes\n"
     ]
    }
   ],
   "source": [
    "## QUICK EXERCISES\n",
    "\n",
    "## (1)\n",
    "# Write code that prints \"Yes\" if a number\n",
    "# is greater than five.\n",
    "\n",
    "def greater_than_five(num):\n",
    "    if num > 5:\n",
    "        print(\"Yes\")\n",
    "    else:\n",
    "        print(\"No\")\n",
    "\n",
    "greater_than_five(7)\n",
    "\n",
    "## (3)\n",
    "# Write an if statement that checks if an input x\n",
    "# is of the string type.\n",
    "\n",
    "def is_string(x):\n",
    "    if type(x) == str:\n",
    "        return True\n",
    "    else:\n",
    "        return False\n"
   ]
  },
  {
   "cell_type": "code",
   "execution_count": 202,
   "id": "f4078f4e",
   "metadata": {},
   "outputs": [],
   "source": [
    "## (2)\n",
    "# Write an if statement that checks if a number\n",
    "# is between 0 and 1.\n",
    "\n",
    "def between_zero_and_one(num):\n",
    "    return 0<num<1\n",
    "\n",
    "between_zero_and_one(0.5)\n",
    "\n",
    "#or \n",
    "\n",
    "def between_zero_and_one_v2(num):\n",
    "    if num > 0 and num < 1:\n",
    "        return True\n",
    "    else:\n",
    "        return False\n"
   ]
  },
  {
   "cell_type": "code",
   "execution_count": 203,
   "id": "bf41d1ec",
   "metadata": {},
   "outputs": [
    {
     "name": "stdout",
     "output_type": "stream",
     "text": [
      "10 is not greater than 10\n"
     ]
    }
   ],
   "source": [
    "## 1.3 THE ELSE STATEMENT\n",
    "\n",
    "# Within an IF staement we can specify what the computer should\n",
    "# do if the condition is false. The else statement allow us to \n",
    "# tell the computer what to do in those instances.\n",
    "\n",
    "# EXAMPLE\n",
    "\n",
    "x = 10\n",
    "\n",
    "if x > 10:\n",
    "    print(x, \"is greater than\", 10)\n",
    "else:\n",
    "    print(x, \"is not greater than\", 10)\n",
    "\n"
   ]
  },
  {
   "cell_type": "code",
   "execution_count": 204,
   "id": "e95435db",
   "metadata": {},
   "outputs": [
    {
     "name": "stdout",
     "output_type": "stream",
     "text": [
      "IT's NOT COLD OUTSIDE! :)\n"
     ]
    }
   ],
   "source": [
    "# 1.4 SYNTAX OF AN IF-ELSE STATEMENT\n",
    "\n",
    "# if condition:\n",
    "#     code to be executed if condition is True\n",
    "# else:\n",
    "#     code to be executed if condition is False\n",
    "\n",
    "## Things to remember:\n",
    "# (1) The indentation on \"if\" and \"else\" must match (no indent)\n",
    "# (2) The code to be executed must be indented (4 spaces)\n",
    "\n",
    "# EXAMPLE\n",
    "\n",
    "temperature = 60\n",
    "\n",
    "if temperature < 40:\n",
    "    print(\"IT'S COLD OUTSIDE! :(\")\n",
    "else:\n",
    "    print(\"IT's NOT COLD OUTSIDE! :)\")\n"
   ]
  },
  {
   "cell_type": "code",
   "execution_count": null,
   "id": "2d991456",
   "metadata": {},
   "outputs": [
    {
     "data": {
      "text/plain": [
       "40"
      ]
     },
     "execution_count": 248,
     "metadata": {},
     "output_type": "execute_result"
    }
   ],
   "source": [
    "# QUICK EXERCISES\n",
    "\n",
    "## (1)\n",
    "# Update the code from the previous exercise\n",
    "# to print \"No\" when the number is not greater than five\n",
    "# def greater_than_five(num):\n",
    "#     if num > 5:\n",
    "#         print(\"Yes\")\n",
    "#     else:\n",
    "#         print(\"No\")\n",
    "\n",
    "# greater_than_five(7)\n",
    "## (2)\n",
    "# Write a function that doubles the value of an input. If the\n",
    "# input is not a float or an int, print an error message.\n",
    "\n",
    "def double_value(x):\n",
    "    if type(x) != float and type(x) != int:\n",
    "        print(\"Error: Input must be a float or an int\")\n",
    "    \n",
    "    b = 2*x \n",
    "    return b\n",
    "    \n",
    "double_value(20)\n"
   ]
  },
  {
   "cell_type": "code",
   "execution_count": 206,
   "id": "b53c999a",
   "metadata": {},
   "outputs": [
    {
     "name": "stdout",
     "output_type": "stream",
     "text": [
      "5 is less than 10\n"
     ]
    }
   ],
   "source": [
    "## 1.5 THE ELIF STATEMENT\n",
    "\n",
    "# Sometimes, just a single condition is not sufficient to \n",
    "# specify sufficient instructions to the computer.\n",
    "#\n",
    "# We can add subconditions after an initial \"IF\" using the \"ELIF\" statement\n",
    "\n",
    "# EXAMPLE\n",
    "\n",
    "x = 5\n",
    "\n",
    "if x > 10:\n",
    "    print(x, \"is greater than\", 10)\n",
    "elif x == 10:\n",
    "    print(x, \"is equal to\", 10)\n",
    "else:\n",
    "    print(x, \"is less than\", 10)\n"
   ]
  },
  {
   "cell_type": "code",
   "execution_count": 207,
   "id": "780d57b8",
   "metadata": {},
   "outputs": [
    {
     "name": "stdout",
     "output_type": "stream",
     "text": [
      "IT'S COLD OUTSIDE! :(\n",
      "I have no clue about what type x is, maybe use type(x)?\n"
     ]
    }
   ],
   "source": [
    "# 1.5 SYNTAX OF AN ELIF STATEMENT\n",
    "\n",
    "# if condition 1:\n",
    "#     code to be executed if condition 1 is True\n",
    "# elif condition 2:\n",
    "#     code to be executed if condition 2 is True and condition 1 is False\n",
    "# else:\n",
    "#     code to be executed if both condition 1 and 2 are False\n",
    "\n",
    "## TO REMEMBER\n",
    "# (1) IF, ELIF and ELSE must all be unindented and the code below must be\n",
    "#     indented by four spaces\n",
    "# (2) The computer will execute the code of the first condition that is True\n",
    "#     i.e if both condition 1 and condition 2 are true, the computer will \n",
    "#     excute the code when condition 1 is True and not the code for condition 2\n",
    "\n",
    "# EXAMPLE 1\n",
    "\n",
    "temperature = 30\n",
    "\n",
    "if temperature < 40:\n",
    "    print(\"IT'S COLD OUTSIDE! :(\")\n",
    "elif temperature > 70:\n",
    "    print(\"IT's WARM OUTSIDE! :)\")\n",
    "else:\n",
    "    print(\"IT'S NOT COLD OR WARM OUTSIDE\")\n",
    "\n",
    "# EXAMPLE 2: Imagine we want to avoid using strings.\n",
    "\n",
    "x = True\n",
    "typeOfX = type(x)\n",
    "\n",
    "if typeOfX == str:\n",
    "    print(x, \"is a String\")\n",
    "elif typeOfX == int:\n",
    "    print(x, \"is an Integer\")\n",
    "elif typeOfX == float:\n",
    "    print(x, \"is an Float\")\n",
    "else:\n",
    "    print(\"I have no clue about what type x is, maybe use type(x)?\")"
   ]
  },
  {
   "cell_type": "code",
   "execution_count": 208,
   "id": "d537a10d",
   "metadata": {},
   "outputs": [],
   "source": [
    "# QUICK EXERCISES\n",
    "\n",
    "## (1)\n",
    "# Write a code that tells you if you someone is short, average or tall\n",
    "# based on their height.\n",
    "\n",
    "def height_person(height, s, m, t):\n",
    "    return \"short\" if height <= s else \"average\" if height <= m and height > s else \"tall\"\n",
    "\n",
    "\n",
    "height_person(7, 5.5, 6.0, 6.5)\n",
    "\n",
    "## (2 )\n",
    "# Write a function that tells you if a firm is making positive profit if\n",
    "# revenues are greater than cost, negative profit (losses) if revenues\n",
    "# are less than cost or breaking even if profits and costs are equal.\n",
    "\n",
    "def profit_or_not(revenues, costs):\n",
    "    if revenues > costs:\n",
    "        return \"Positive Profit\"\n",
    "    elif revenues < costs:\n",
    "        return \"Negative Profit\"\n",
    "    else:\n",
    "        return \"Breaking Even\"\n",
    "\n"
   ]
  },
  {
   "cell_type": "code",
   "execution_count": 209,
   "id": "d8d87ca7",
   "metadata": {},
   "outputs": [],
   "source": [
    "### NEW TOPIC:\n",
    "# Lists and Loops "
   ]
  },
  {
   "cell_type": "code",
   "execution_count": 210,
   "id": "250764f4",
   "metadata": {},
   "outputs": [
    {
     "name": "stdout",
     "output_type": "stream",
     "text": [
      "[4, 1, 8]\n"
     ]
    }
   ],
   "source": [
    "### Lists\n",
    "## Lists are a useful data type to store many types of objects\n",
    "\n",
    "myList = [4, 1, 8]\n",
    "print(myList)"
   ]
  },
  {
   "cell_type": "code",
   "execution_count": 211,
   "id": "26715a52",
   "metadata": {},
   "outputs": [
    {
     "name": "stdout",
     "output_type": "stream",
     "text": [
      "[1, 4, 8]\n"
     ]
    }
   ],
   "source": [
    "# Example: sorting a list from lowest to highest and for highest to lowest.\n",
    "# reverse = True in the method would change to descending\n",
    "myList.sort()\n",
    "print(myList)\n",
    "\n",
    "## Notice these methods are changing the values of myList in place "
   ]
  },
  {
   "cell_type": "code",
   "execution_count": 212,
   "id": "7e80e1c2",
   "metadata": {},
   "outputs": [
    {
     "data": {
      "text/plain": [
       "'a'"
      ]
     },
     "execution_count": 212,
     "metadata": {},
     "output_type": "execute_result"
    }
   ],
   "source": [
    "## Accessing list elements\n",
    "# You can access list elements with this syntax: listname[index]\n",
    "# The index starts from 0 \n",
    "myList2 = [\"a\", \"b\", \"c\", \"d\", \"e\"]\n",
    "myList2[0]"
   ]
  },
  {
   "cell_type": "code",
   "execution_count": 213,
   "id": "b5b1a8bd-ff48-4e94-9973-8769b6224c3c",
   "metadata": {},
   "outputs": [
    {
     "data": {
      "text/plain": [
       "'a'"
      ]
     },
     "execution_count": 213,
     "metadata": {},
     "output_type": "execute_result"
    }
   ],
   "source": [
    "# You can also index items from the left using a negative index\n",
    "myList2 = [\"a\", \"b\", \"c\", \"d\", \"e\"]\n",
    "myList2[-5]"
   ]
  },
  {
   "cell_type": "code",
   "execution_count": 214,
   "id": "dbe239de",
   "metadata": {},
   "outputs": [
    {
     "data": {
      "text/plain": [
       "['d', 'e']"
      ]
     },
     "execution_count": 214,
     "metadata": {},
     "output_type": "execute_result"
    }
   ],
   "source": [
    "## We can also access a slice of the list:\n",
    "myList2[3:5]\n",
    "# listname[firstindexofthingyouwant:lastindexofthingyouwantplusone]\n",
    "# Notice it goes from the first index to one less than the second index"
   ]
  },
  {
   "cell_type": "code",
   "execution_count": 215,
   "id": "ff861a79",
   "metadata": {},
   "outputs": [
    {
     "name": "stdout",
     "output_type": "stream",
     "text": [
      "[1, 2, 3, 4, 'test']\n"
     ]
    }
   ],
   "source": [
    "# You can overwrite list elements\n",
    "myList3 = [1, 2, 3, 4, 5]\n",
    "myList3[4] = \"test\"\n",
    "print(myList3)\n",
    "\n",
    "# When accessing a list in any way, remember that cannot exceed its max index\n",
    "# myList3[10] will throw an error"
   ]
  },
  {
   "cell_type": "code",
   "execution_count": 216,
   "id": "e408fabe",
   "metadata": {},
   "outputs": [
    {
     "name": "stdout",
     "output_type": "stream",
     "text": [
      "Hey Hey Hey Hey \n",
      "['Test', 'Test', 'Test', 'Test']\n",
      "-*-*-*-*-*-*-*\n"
     ]
    }
   ],
   "source": [
    " # We can multiply strings and lists for repetition \n",
    "print(4*\"Hey \")\n",
    "print(4*[\"Test\"])\n",
    "print(\"-*\"*7)"
   ]
  },
  {
   "cell_type": "code",
   "execution_count": 217,
   "id": "df1318c7",
   "metadata": {},
   "outputs": [
    {
     "data": {
      "text/plain": [
       "'t'"
      ]
     },
     "execution_count": 217,
     "metadata": {},
     "output_type": "execute_result"
    }
   ],
   "source": [
    "# Just FYI: We can also index strings\n",
    "\"testing\"[0]"
   ]
  },
  {
   "cell_type": "code",
   "execution_count": 218,
   "id": "5175cead",
   "metadata": {},
   "outputs": [
    {
     "name": "stdout",
     "output_type": "stream",
     "text": [
      "[100, 200, 300, 400, 500]\n",
      "[100, 200, 300, 400]\n"
     ]
    }
   ],
   "source": [
    "# You can concatenate lists; this doesn't save the changes\n",
    "anotherList = [100, 200, 300, 400]\n",
    "print(anotherList + [500])\n",
    "print(anotherList)"
   ]
  },
  {
   "cell_type": "code",
   "execution_count": 219,
   "id": "b673f167",
   "metadata": {},
   "outputs": [
    {
     "name": "stdout",
     "output_type": "stream",
     "text": [
      "[100, 200, 300, 400, 500]\n"
     ]
    },
    {
     "data": {
      "text/plain": [
       "[100, 200, 300, 400]"
      ]
     },
     "execution_count": 219,
     "metadata": {},
     "output_type": "execute_result"
    }
   ],
   "source": [
    "# But appending a value changes the list in place\n",
    "anotherList.append(500)\n",
    "print(anotherList)\n",
    "\n",
    "anotherList.pop(-1)\n",
    "\n",
    "anotherList"
   ]
  },
  {
   "cell_type": "code",
   "execution_count": 220,
   "id": "fe56a4fb",
   "metadata": {},
   "outputs": [
    {
     "name": "stdout",
     "output_type": "stream",
     "text": [
      "[100, 200, 300, 400]\n"
     ]
    }
   ],
   "source": [
    "##\n",
    "# More interesting list methods\n",
    "\n",
    "# For instance,\n",
    "x = anotherList\n",
    "## Sorting\n",
    "x.sort()\n",
    "print(x)\n",
    "\n",
    "## Eliminating the last element\n",
    "#x.pop()\n",
    "#print(x)\n",
    "\n",
    "# Deleting element 2\n",
    "# x.pop(2)\n",
    "# print(x)\n",
    "\n",
    "# # Insert in specific position\n",
    "# x.insert(0, )\n",
    "# print(x)\n",
    "\n",
    "## Remove the first element with\n",
    "#  a given value\n",
    "# x.remove(100)\n",
    "# print(x)\n",
    "\n",
    "## Not a method but an important function\n",
    "#  to know the number of elements in a list\n",
    "# len(x)"
   ]
  },
  {
   "cell_type": "code",
   "execution_count": 221,
   "id": "f95f5b77",
   "metadata": {},
   "outputs": [],
   "source": [
    "###### Loops\n",
    "\n",
    "# Sometimes you may want to repeat the same operations, but\n",
    "# making some minor changes. In those instances we can use loops.\n",
    "\n",
    "### Motivation\n",
    "\n",
    "## Example 1:\n",
    "# \n",
    "# Imagine that we want to produce a histogram for a large set of \n",
    "# variables. We could type their variable names one by one\n",
    "# and copy-paste some code that generate a histogram. But that\n",
    "# can take forever and it is prone to manual errors. If you think\n",
    "# about it, the code for producing the histogram will be identical\n",
    "# for each variable. The only thing that may be changing is the \n",
    "# variable being used. We can write a loop that executes this \n",
    "# code over and over, each time changing the variable name.\n",
    "\n",
    "## Example 2:\n",
    "#\n",
    "# Say we have to produce a performance report for all the \n",
    "# stores of a major chain (think DD, CVS, McDonalds, etc.). \n",
    "#\n",
    "# Each store has its own dataframe, but they are organized identically.\n",
    "# The onlything different is the content of the data. It is going\n",
    "# to be impossible for us to write a code manually that open each dataframe\n",
    "# and produce a report without going crazy, dying of old age or \n",
    "# making a bunch of mistakes.\n",
    "#\n",
    "# Instead we can make the proces automatic by creating a single code\n",
    "# for the report and using a loop that executes the code by simply\n",
    "# changing the data frame we are using each time."
   ]
  },
  {
   "cell_type": "code",
   "execution_count": 222,
   "id": "8fd9fb4e",
   "metadata": {},
   "outputs": [
    {
     "name": "stdout",
     "output_type": "stream",
     "text": [
      "1\n",
      "2\n",
      "3\n",
      "4\n",
      "5\n"
     ]
    }
   ],
   "source": [
    "###### THE \"FOR\" STATEMENT\n",
    "\n",
    "## A loop statement is composed of three parts:\n",
    "\n",
    "## ITERATOR\n",
    "\n",
    "# An ITERATOR is a temporary variable that will be \n",
    "# taking the values of the RANGE while executing the\n",
    "# code of the BODY sequentially.\n",
    "\n",
    "## RANGE\n",
    "\n",
    "# The RANGE is a _list_ that holds all the values that\n",
    "# ITERATOR will take while executing the loop. The \n",
    "# ITERATOR will take the values of the RANGE in \n",
    "# order\n",
    "\n",
    "# In other words: The RANGE tells us how many times we want to run through the loop\n",
    "\n",
    "## BODY\n",
    "\n",
    "# The BODY of the loop is the code that is executed\n",
    "\n",
    "# EXAMPLE 1\n",
    "\n",
    "RANGE = [1, 2, 3, 4, 5]\n",
    "\n",
    "for ITERATOR in RANGE:\n",
    "    print(ITERATOR)\n",
    "\n",
    "# Generally we call the iterator i for short, but\n",
    "# you can use any variable name that you want. "
   ]
  },
  {
   "cell_type": "code",
   "execution_count": 228,
   "id": "b7f2c90e",
   "metadata": {},
   "outputs": [
    {
     "name": "stdout",
     "output_type": "stream",
     "text": [
      "1\n",
      "4\n",
      "9\n",
      "16\n",
      "25\n"
     ]
    }
   ],
   "source": [
    "###### THE SYNTAX OF A FOR STATEMENT\n",
    "\n",
    "# for ITERATOR in RANGE:\n",
    "#     BODY\n",
    "        \n",
    "## Let's take a look at the SYNTAX a bit more careful:\n",
    "\n",
    "# 1. We start with \"for\", that's what \"declares\" that we are in a loop.\n",
    "# 2. Then we type the iterator (it can be any variable name). \n",
    "# 3. Then, separated by \"in\", we specify the RANGE, which must be a list of values.\n",
    "# 4. We end that first line with \":\" (colon) (just like we do for functions or\n",
    "#    if statements)\n",
    "# 6. The next line is indented and is the BODY of the function, the code that\n",
    "#    will be executed while the ITERATOR takes the different values of the \n",
    "#    RANGE sequentially\n",
    "\n",
    "# EXAMPLE A\n",
    "\n",
    "for n in [1, 2, 3, 4, 5]:\n",
    "    print(n**2)"
   ]
  },
  {
   "cell_type": "code",
   "execution_count": 229,
   "id": "35b1bd43",
   "metadata": {},
   "outputs": [
    {
     "name": "stdout",
     "output_type": "stream",
     "text": [
      " the type of apple is <class 'str'>\n",
      " the type of 1 is <class 'int'>\n",
      " the type of 2 is <class 'int'>\n",
      " the type of 2.0 is <class 'float'>\n",
      " the type of -0.5 is <class 'float'>\n",
      " the type of 4.0 is <class 'float'>\n",
      " the type of True is <class 'bool'>\n"
     ]
    }
   ],
   "source": [
    "## Quick Exercise\n",
    "\n",
    "# (1) Write a loop that iterates over the content of the list\n",
    "x = [\"apple\", 1, 2, 2.0, -0.5, 4/1, True]\n",
    "# and returns the type of each element.\n",
    "\n",
    "for i in x:\n",
    "    print(f\" the type of {i} is {type(i)}\")"
   ]
  },
  {
   "cell_type": "code",
   "execution_count": null,
   "id": "2fd7febc",
   "metadata": {},
   "outputs": [
    {
     "name": "stdout",
     "output_type": "stream",
     "text": [
      "b\n",
      "a\n",
      "N\n",
      "a\n",
      "N\n",
      "a\n",
      "s\n"
     ]
    }
   ],
   "source": [
    "###### DIFFERENT RANGES\n",
    "\n",
    "## The range() fucntion\n",
    "\n",
    "# When using a for loop we generally want to iterate \n",
    "# from 0 to a given number in sequence. We can quickly \n",
    "# achieve this by using the range() function.\n",
    "\n",
    "# With a single input: range(a) = [0, 1, 2, 3, ..., a]\n",
    "\n",
    "# for i in range(5):\n",
    "#     print(i)\n",
    "    \n",
    "# With two inputs: range(a, b) = [a, a + 1, a + 2, ..., b]\n",
    "\n",
    "# for i in range(3, 10):\n",
    "#     print(i)\n",
    "    \n",
    "# With three inputs: range(a, b, c) = [a, a + c, a + c, ..., b]\n",
    "\n",
    "# for i in range(2, 10, 2):\n",
    "#     print(i)\n",
    "    \n",
    "# Reversed\n",
    "\n",
    "# for i in reversed(range(2, 10, 2)):\n",
    "#     print(i)\n",
    "\n",
    "\n",
    "## Strings as Lists\n",
    "\n",
    "# Recall that strings ARE lists\n",
    "\n",
    "# for i in \"bananas\":\n",
    "#     if i == \"n\":\n",
    "#         print(i.upper())\n",
    "#     else:\n",
    "#         print(i)"
   ]
  },
  {
   "cell_type": "code",
   "execution_count": 254,
   "id": "728a9df0-c289-4887-9ace-1652bf7b5432",
   "metadata": {},
   "outputs": [],
   "source": [
    "# Extra Exercise if we have time...\n",
    "\n",
    "# Write a FUNCTION that takes in a number and simply returns\n",
    "# TRUE or FALSE for whether that number is a prime number\n",
    "def is_prime(num):\n",
    "    if num <= 1:\n",
    "        return False\n",
    "    for i in range(2, num):\n",
    "        if num % i == 0:\n",
    "            return False\n",
    "    return True\n",
    "\n",
    "# REFRESHER: A prime number is a number that is only divisble by 1 and itself\n",
    "# REMINDER: the \"%\" operater gives you the remainder of a division``"
   ]
  },
  {
   "cell_type": "code",
   "execution_count": 227,
   "id": "7c4d895d",
   "metadata": {},
   "outputs": [],
   "source": [
    "#### Learning Objective completed in this lecture\n",
    "\n",
    "#1. Develop intuition for programming logic and tools for implementing logical processes\n",
    "#2. Become more familiar with Python packages that will be used moving forward\n",
    "#3. Begin using FLow controls and Loops to program more complex ideas\n",
    "#4. Practice using lists and indexing, which will become more useful once we are working with data"
   ]
  }
 ],
 "metadata": {
  "kernelspec": {
   "display_name": "Python 3",
   "language": "python",
   "name": "python3"
  },
  "language_info": {
   "codemirror_mode": {
    "name": "ipython",
    "version": 3
   },
   "file_extension": ".py",
   "mimetype": "text/x-python",
   "name": "python",
   "nbconvert_exporter": "python",
   "pygments_lexer": "ipython3",
   "version": "3.11.11"
  }
 },
 "nbformat": 4,
 "nbformat_minor": 5
}
